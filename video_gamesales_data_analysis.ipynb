{
  "nbformat": 4,
  "nbformat_minor": 0,
  "metadata": {
    "colab": {
      "provenance": [],
      "collapsed_sections": [
        "PSx6631GwHRZ"
      ],
      "gpuType": "T4",
      "toc_visible": true
    },
    "kernelspec": {
      "name": "python3",
      "display_name": "Python 3"
    },
    "language_info": {
      "name": "python"
    },
    "accelerator": "GPU"
  },
  "cells": [
    {
      "cell_type": "markdown",
      "source": [
        "##Imports and Installations"
      ],
      "metadata": {
        "id": "cy0lNYoUmU9N"
      }
    },
    {
      "cell_type": "code",
      "execution_count": null,
      "metadata": {
        "id": "Hk92o_xCmShH"
      },
      "outputs": [],
      "source": [
        "import pandas as pd\n",
        "import numpy as np\n",
        "import matplotlib.pyplot as plt\n",
        "import seaborn as sns\n",
        "from sklearn.preprocessing import LabelEncoder\n",
        "import scipy.stats as stats\n",
        "from scipy.stats import chi2_contingency"
      ]
    },
    {
      "cell_type": "markdown",
      "source": [
        "## About Dataset"
      ],
      "metadata": {
        "id": "PSx6631GwHRZ"
      }
    },
    {
      "cell_type": "markdown",
      "source": [
        "The data analysis done within this notebook was carried out on a video game sales dataset that contains sales data on video games ranging from 2018 to 2023.\n",
        "\n",
        "Columns:\n",
        "- img: the uri for the box art.\n",
        "- title: title of the game.\n",
        "- console: console the game was released for.\n",
        "- genre: genre of the game.\n",
        "- publisher: publisher of the game.\n",
        "- developer: developer of the game.\n",
        "- critic_score: metacritic score (out of 10).\n",
        "- total_sales: global sales of copies in millions.\n",
        "- na_sales: North American sales of copies in millions.\n",
        "- jp_sales: Japanese sales of copies in millions.\n",
        "- pal_sales: Europe/Africa sales in millions.\n",
        "- other_sales: other sales of copies in millions.\n",
        "- release_date: date the game released.\n",
        "- last_update: date the data was last updated.\n"
      ],
      "metadata": {
        "id": "eMRR4foAwLzK"
      }
    },
    {
      "cell_type": "markdown",
      "source": [
        "##Data Exploration"
      ],
      "metadata": {
        "id": "9GaHR2EAmacg"
      }
    },
    {
      "cell_type": "markdown",
      "source": [
        "Loading dataset into data frame"
      ],
      "metadata": {
        "id": "r5Xa0KVwwS5L"
      }
    },
    {
      "cell_type": "code",
      "source": [
        "df = pd.read_csv('/content/vgchartz-2024.csv')"
      ],
      "metadata": {
        "id": "a8MF6m6Mme6A"
      },
      "execution_count": null,
      "outputs": []
    },
    {
      "cell_type": "markdown",
      "source": [
        "Data Exploration"
      ],
      "metadata": {
        "id": "TMnITT1CuT0Y"
      }
    },
    {
      "cell_type": "markdown",
      "source": [
        "Showing the first five rows in the dataset"
      ],
      "metadata": {
        "id": "SBkVfxoBwBe8"
      }
    },
    {
      "cell_type": "code",
      "source": [
        "df.head()"
      ],
      "metadata": {
        "colab": {
          "base_uri": "https://localhost:8080/",
          "height": 521
        },
        "id": "_5i3dMk7uD08",
        "outputId": "aea3ea92-1eb0-487e-fa81-f88c80110403"
      },
      "execution_count": null,
      "outputs": [
        {
          "output_type": "execute_result",
          "data": {
            "text/plain": [
              "                                             img                        title  \\\n",
              "0  /games/boxart/full_6510540AmericaFrontccc.jpg           Grand Theft Auto V   \n",
              "1  /games/boxart/full_5563178AmericaFrontccc.jpg           Grand Theft Auto V   \n",
              "2                    /games/boxart/827563ccc.jpg  Grand Theft Auto: Vice City   \n",
              "3  /games/boxart/full_9218923AmericaFrontccc.jpg           Grand Theft Auto V   \n",
              "4  /games/boxart/full_4990510AmericaFrontccc.jpg    Call of Duty: Black Ops 3   \n",
              "\n",
              "  console    genre       publisher       developer  critic_score  total_sales  \\\n",
              "0     PS3   Action  Rockstar Games  Rockstar North           9.4        20.32   \n",
              "1     PS4   Action  Rockstar Games  Rockstar North           9.7        19.39   \n",
              "2     PS2   Action  Rockstar Games  Rockstar North           9.6        16.15   \n",
              "3    X360   Action  Rockstar Games  Rockstar North           NaN        15.86   \n",
              "4     PS4  Shooter      Activision        Treyarch           8.1        15.09   \n",
              "\n",
              "   na_sales  jp_sales  pal_sales  other_sales release_date last_update  \n",
              "0      6.37      0.99       9.85         3.12   2013-09-17         NaN  \n",
              "1      6.06      0.60       9.71         3.02   2014-11-18  2018-01-03  \n",
              "2      8.41      0.47       5.49         1.78   2002-10-28         NaN  \n",
              "3      9.06      0.06       5.33         1.42   2013-09-17         NaN  \n",
              "4      6.18      0.41       6.05         2.44   2015-11-06  2018-01-14  "
            ],
            "text/html": [
              "\n",
              "  <div id=\"df-0e5a9d1f-a956-4a62-91a5-61814f993cf1\" class=\"colab-df-container\">\n",
              "    <div>\n",
              "<style scoped>\n",
              "    .dataframe tbody tr th:only-of-type {\n",
              "        vertical-align: middle;\n",
              "    }\n",
              "\n",
              "    .dataframe tbody tr th {\n",
              "        vertical-align: top;\n",
              "    }\n",
              "\n",
              "    .dataframe thead th {\n",
              "        text-align: right;\n",
              "    }\n",
              "</style>\n",
              "<table border=\"1\" class=\"dataframe\">\n",
              "  <thead>\n",
              "    <tr style=\"text-align: right;\">\n",
              "      <th></th>\n",
              "      <th>img</th>\n",
              "      <th>title</th>\n",
              "      <th>console</th>\n",
              "      <th>genre</th>\n",
              "      <th>publisher</th>\n",
              "      <th>developer</th>\n",
              "      <th>critic_score</th>\n",
              "      <th>total_sales</th>\n",
              "      <th>na_sales</th>\n",
              "      <th>jp_sales</th>\n",
              "      <th>pal_sales</th>\n",
              "      <th>other_sales</th>\n",
              "      <th>release_date</th>\n",
              "      <th>last_update</th>\n",
              "    </tr>\n",
              "  </thead>\n",
              "  <tbody>\n",
              "    <tr>\n",
              "      <th>0</th>\n",
              "      <td>/games/boxart/full_6510540AmericaFrontccc.jpg</td>\n",
              "      <td>Grand Theft Auto V</td>\n",
              "      <td>PS3</td>\n",
              "      <td>Action</td>\n",
              "      <td>Rockstar Games</td>\n",
              "      <td>Rockstar North</td>\n",
              "      <td>9.4</td>\n",
              "      <td>20.32</td>\n",
              "      <td>6.37</td>\n",
              "      <td>0.99</td>\n",
              "      <td>9.85</td>\n",
              "      <td>3.12</td>\n",
              "      <td>2013-09-17</td>\n",
              "      <td>NaN</td>\n",
              "    </tr>\n",
              "    <tr>\n",
              "      <th>1</th>\n",
              "      <td>/games/boxart/full_5563178AmericaFrontccc.jpg</td>\n",
              "      <td>Grand Theft Auto V</td>\n",
              "      <td>PS4</td>\n",
              "      <td>Action</td>\n",
              "      <td>Rockstar Games</td>\n",
              "      <td>Rockstar North</td>\n",
              "      <td>9.7</td>\n",
              "      <td>19.39</td>\n",
              "      <td>6.06</td>\n",
              "      <td>0.60</td>\n",
              "      <td>9.71</td>\n",
              "      <td>3.02</td>\n",
              "      <td>2014-11-18</td>\n",
              "      <td>2018-01-03</td>\n",
              "    </tr>\n",
              "    <tr>\n",
              "      <th>2</th>\n",
              "      <td>/games/boxart/827563ccc.jpg</td>\n",
              "      <td>Grand Theft Auto: Vice City</td>\n",
              "      <td>PS2</td>\n",
              "      <td>Action</td>\n",
              "      <td>Rockstar Games</td>\n",
              "      <td>Rockstar North</td>\n",
              "      <td>9.6</td>\n",
              "      <td>16.15</td>\n",
              "      <td>8.41</td>\n",
              "      <td>0.47</td>\n",
              "      <td>5.49</td>\n",
              "      <td>1.78</td>\n",
              "      <td>2002-10-28</td>\n",
              "      <td>NaN</td>\n",
              "    </tr>\n",
              "    <tr>\n",
              "      <th>3</th>\n",
              "      <td>/games/boxart/full_9218923AmericaFrontccc.jpg</td>\n",
              "      <td>Grand Theft Auto V</td>\n",
              "      <td>X360</td>\n",
              "      <td>Action</td>\n",
              "      <td>Rockstar Games</td>\n",
              "      <td>Rockstar North</td>\n",
              "      <td>NaN</td>\n",
              "      <td>15.86</td>\n",
              "      <td>9.06</td>\n",
              "      <td>0.06</td>\n",
              "      <td>5.33</td>\n",
              "      <td>1.42</td>\n",
              "      <td>2013-09-17</td>\n",
              "      <td>NaN</td>\n",
              "    </tr>\n",
              "    <tr>\n",
              "      <th>4</th>\n",
              "      <td>/games/boxart/full_4990510AmericaFrontccc.jpg</td>\n",
              "      <td>Call of Duty: Black Ops 3</td>\n",
              "      <td>PS4</td>\n",
              "      <td>Shooter</td>\n",
              "      <td>Activision</td>\n",
              "      <td>Treyarch</td>\n",
              "      <td>8.1</td>\n",
              "      <td>15.09</td>\n",
              "      <td>6.18</td>\n",
              "      <td>0.41</td>\n",
              "      <td>6.05</td>\n",
              "      <td>2.44</td>\n",
              "      <td>2015-11-06</td>\n",
              "      <td>2018-01-14</td>\n",
              "    </tr>\n",
              "  </tbody>\n",
              "</table>\n",
              "</div>\n",
              "    <div class=\"colab-df-buttons\">\n",
              "\n",
              "  <div class=\"colab-df-container\">\n",
              "    <button class=\"colab-df-convert\" onclick=\"convertToInteractive('df-0e5a9d1f-a956-4a62-91a5-61814f993cf1')\"\n",
              "            title=\"Convert this dataframe to an interactive table.\"\n",
              "            style=\"display:none;\">\n",
              "\n",
              "  <svg xmlns=\"http://www.w3.org/2000/svg\" height=\"24px\" viewBox=\"0 -960 960 960\">\n",
              "    <path d=\"M120-120v-720h720v720H120Zm60-500h600v-160H180v160Zm220 220h160v-160H400v160Zm0 220h160v-160H400v160ZM180-400h160v-160H180v160Zm440 0h160v-160H620v160ZM180-180h160v-160H180v160Zm440 0h160v-160H620v160Z\"/>\n",
              "  </svg>\n",
              "    </button>\n",
              "\n",
              "  <style>\n",
              "    .colab-df-container {\n",
              "      display:flex;\n",
              "      gap: 12px;\n",
              "    }\n",
              "\n",
              "    .colab-df-convert {\n",
              "      background-color: #E8F0FE;\n",
              "      border: none;\n",
              "      border-radius: 50%;\n",
              "      cursor: pointer;\n",
              "      display: none;\n",
              "      fill: #1967D2;\n",
              "      height: 32px;\n",
              "      padding: 0 0 0 0;\n",
              "      width: 32px;\n",
              "    }\n",
              "\n",
              "    .colab-df-convert:hover {\n",
              "      background-color: #E2EBFA;\n",
              "      box-shadow: 0px 1px 2px rgba(60, 64, 67, 0.3), 0px 1px 3px 1px rgba(60, 64, 67, 0.15);\n",
              "      fill: #174EA6;\n",
              "    }\n",
              "\n",
              "    .colab-df-buttons div {\n",
              "      margin-bottom: 4px;\n",
              "    }\n",
              "\n",
              "    [theme=dark] .colab-df-convert {\n",
              "      background-color: #3B4455;\n",
              "      fill: #D2E3FC;\n",
              "    }\n",
              "\n",
              "    [theme=dark] .colab-df-convert:hover {\n",
              "      background-color: #434B5C;\n",
              "      box-shadow: 0px 1px 3px 1px rgba(0, 0, 0, 0.15);\n",
              "      filter: drop-shadow(0px 1px 2px rgba(0, 0, 0, 0.3));\n",
              "      fill: #FFFFFF;\n",
              "    }\n",
              "  </style>\n",
              "\n",
              "    <script>\n",
              "      const buttonEl =\n",
              "        document.querySelector('#df-0e5a9d1f-a956-4a62-91a5-61814f993cf1 button.colab-df-convert');\n",
              "      buttonEl.style.display =\n",
              "        google.colab.kernel.accessAllowed ? 'block' : 'none';\n",
              "\n",
              "      async function convertToInteractive(key) {\n",
              "        const element = document.querySelector('#df-0e5a9d1f-a956-4a62-91a5-61814f993cf1');\n",
              "        const dataTable =\n",
              "          await google.colab.kernel.invokeFunction('convertToInteractive',\n",
              "                                                    [key], {});\n",
              "        if (!dataTable) return;\n",
              "\n",
              "        const docLinkHtml = 'Like what you see? Visit the ' +\n",
              "          '<a target=\"_blank\" href=https://colab.research.google.com/notebooks/data_table.ipynb>data table notebook</a>'\n",
              "          + ' to learn more about interactive tables.';\n",
              "        element.innerHTML = '';\n",
              "        dataTable['output_type'] = 'display_data';\n",
              "        await google.colab.output.renderOutput(dataTable, element);\n",
              "        const docLink = document.createElement('div');\n",
              "        docLink.innerHTML = docLinkHtml;\n",
              "        element.appendChild(docLink);\n",
              "      }\n",
              "    </script>\n",
              "  </div>\n",
              "\n",
              "\n",
              "<div id=\"df-22b3d147-021c-48ca-a2c9-d23a6e298295\">\n",
              "  <button class=\"colab-df-quickchart\" onclick=\"quickchart('df-22b3d147-021c-48ca-a2c9-d23a6e298295')\"\n",
              "            title=\"Suggest charts\"\n",
              "            style=\"display:none;\">\n",
              "\n",
              "<svg xmlns=\"http://www.w3.org/2000/svg\" height=\"24px\"viewBox=\"0 0 24 24\"\n",
              "     width=\"24px\">\n",
              "    <g>\n",
              "        <path d=\"M19 3H5c-1.1 0-2 .9-2 2v14c0 1.1.9 2 2 2h14c1.1 0 2-.9 2-2V5c0-1.1-.9-2-2-2zM9 17H7v-7h2v7zm4 0h-2V7h2v10zm4 0h-2v-4h2v4z\"/>\n",
              "    </g>\n",
              "</svg>\n",
              "  </button>\n",
              "\n",
              "<style>\n",
              "  .colab-df-quickchart {\n",
              "      --bg-color: #E8F0FE;\n",
              "      --fill-color: #1967D2;\n",
              "      --hover-bg-color: #E2EBFA;\n",
              "      --hover-fill-color: #174EA6;\n",
              "      --disabled-fill-color: #AAA;\n",
              "      --disabled-bg-color: #DDD;\n",
              "  }\n",
              "\n",
              "  [theme=dark] .colab-df-quickchart {\n",
              "      --bg-color: #3B4455;\n",
              "      --fill-color: #D2E3FC;\n",
              "      --hover-bg-color: #434B5C;\n",
              "      --hover-fill-color: #FFFFFF;\n",
              "      --disabled-bg-color: #3B4455;\n",
              "      --disabled-fill-color: #666;\n",
              "  }\n",
              "\n",
              "  .colab-df-quickchart {\n",
              "    background-color: var(--bg-color);\n",
              "    border: none;\n",
              "    border-radius: 50%;\n",
              "    cursor: pointer;\n",
              "    display: none;\n",
              "    fill: var(--fill-color);\n",
              "    height: 32px;\n",
              "    padding: 0;\n",
              "    width: 32px;\n",
              "  }\n",
              "\n",
              "  .colab-df-quickchart:hover {\n",
              "    background-color: var(--hover-bg-color);\n",
              "    box-shadow: 0 1px 2px rgba(60, 64, 67, 0.3), 0 1px 3px 1px rgba(60, 64, 67, 0.15);\n",
              "    fill: var(--button-hover-fill-color);\n",
              "  }\n",
              "\n",
              "  .colab-df-quickchart-complete:disabled,\n",
              "  .colab-df-quickchart-complete:disabled:hover {\n",
              "    background-color: var(--disabled-bg-color);\n",
              "    fill: var(--disabled-fill-color);\n",
              "    box-shadow: none;\n",
              "  }\n",
              "\n",
              "  .colab-df-spinner {\n",
              "    border: 2px solid var(--fill-color);\n",
              "    border-color: transparent;\n",
              "    border-bottom-color: var(--fill-color);\n",
              "    animation:\n",
              "      spin 1s steps(1) infinite;\n",
              "  }\n",
              "\n",
              "  @keyframes spin {\n",
              "    0% {\n",
              "      border-color: transparent;\n",
              "      border-bottom-color: var(--fill-color);\n",
              "      border-left-color: var(--fill-color);\n",
              "    }\n",
              "    20% {\n",
              "      border-color: transparent;\n",
              "      border-left-color: var(--fill-color);\n",
              "      border-top-color: var(--fill-color);\n",
              "    }\n",
              "    30% {\n",
              "      border-color: transparent;\n",
              "      border-left-color: var(--fill-color);\n",
              "      border-top-color: var(--fill-color);\n",
              "      border-right-color: var(--fill-color);\n",
              "    }\n",
              "    40% {\n",
              "      border-color: transparent;\n",
              "      border-right-color: var(--fill-color);\n",
              "      border-top-color: var(--fill-color);\n",
              "    }\n",
              "    60% {\n",
              "      border-color: transparent;\n",
              "      border-right-color: var(--fill-color);\n",
              "    }\n",
              "    80% {\n",
              "      border-color: transparent;\n",
              "      border-right-color: var(--fill-color);\n",
              "      border-bottom-color: var(--fill-color);\n",
              "    }\n",
              "    90% {\n",
              "      border-color: transparent;\n",
              "      border-bottom-color: var(--fill-color);\n",
              "    }\n",
              "  }\n",
              "</style>\n",
              "\n",
              "  <script>\n",
              "    async function quickchart(key) {\n",
              "      const quickchartButtonEl =\n",
              "        document.querySelector('#' + key + ' button');\n",
              "      quickchartButtonEl.disabled = true;  // To prevent multiple clicks.\n",
              "      quickchartButtonEl.classList.add('colab-df-spinner');\n",
              "      try {\n",
              "        const charts = await google.colab.kernel.invokeFunction(\n",
              "            'suggestCharts', [key], {});\n",
              "      } catch (error) {\n",
              "        console.error('Error during call to suggestCharts:', error);\n",
              "      }\n",
              "      quickchartButtonEl.classList.remove('colab-df-spinner');\n",
              "      quickchartButtonEl.classList.add('colab-df-quickchart-complete');\n",
              "    }\n",
              "    (() => {\n",
              "      let quickchartButtonEl =\n",
              "        document.querySelector('#df-22b3d147-021c-48ca-a2c9-d23a6e298295 button');\n",
              "      quickchartButtonEl.style.display =\n",
              "        google.colab.kernel.accessAllowed ? 'block' : 'none';\n",
              "    })();\n",
              "  </script>\n",
              "</div>\n",
              "\n",
              "    </div>\n",
              "  </div>\n"
            ],
            "application/vnd.google.colaboratory.intrinsic+json": {
              "type": "dataframe",
              "variable_name": "df",
              "repr_error": "'str' object has no attribute 'empty'"
            }
          },
          "metadata": {},
          "execution_count": 3
        }
      ]
    },
    {
      "cell_type": "markdown",
      "source": [
        "Inspecting non-null count"
      ],
      "metadata": {
        "id": "PKSPm8GqzkVD"
      }
    },
    {
      "cell_type": "code",
      "source": [
        "df.info()"
      ],
      "metadata": {
        "colab": {
          "base_uri": "https://localhost:8080/"
        },
        "id": "JcCmT0uYuOqc",
        "outputId": "2b7cc8aa-728a-47b0-972c-3a581c890f53"
      },
      "execution_count": null,
      "outputs": [
        {
          "output_type": "stream",
          "name": "stdout",
          "text": [
            "<class 'pandas.core.frame.DataFrame'>\n",
            "RangeIndex: 64016 entries, 0 to 64015\n",
            "Data columns (total 14 columns):\n",
            " #   Column        Non-Null Count  Dtype  \n",
            "---  ------        --------------  -----  \n",
            " 0   img           64016 non-null  object \n",
            " 1   title         64016 non-null  object \n",
            " 2   console       64016 non-null  object \n",
            " 3   genre         64016 non-null  object \n",
            " 4   publisher     64016 non-null  object \n",
            " 5   developer     63999 non-null  object \n",
            " 6   critic_score  6678 non-null   float64\n",
            " 7   total_sales   18922 non-null  float64\n",
            " 8   na_sales      12637 non-null  float64\n",
            " 9   jp_sales      6726 non-null   float64\n",
            " 10  pal_sales     12824 non-null  float64\n",
            " 11  other_sales   15128 non-null  float64\n",
            " 12  release_date  56965 non-null  object \n",
            " 13  last_update   17879 non-null  object \n",
            "dtypes: float64(6), object(8)\n",
            "memory usage: 6.8+ MB\n"
          ]
        }
      ]
    },
    {
      "cell_type": "markdown",
      "source": [
        "Inspecting statistics for numerical columns.\n"
      ],
      "metadata": {
        "id": "yP3I7LFRzqd4"
      }
    },
    {
      "cell_type": "markdown",
      "source": [
        "*Note: This only provides some relevant statistics on measures of dispersion and central tendency. Other metrics are explored further.*"
      ],
      "metadata": {
        "id": "b8T_XFq70j40"
      }
    },
    {
      "cell_type": "code",
      "source": [
        "df.describe()"
      ],
      "metadata": {
        "colab": {
          "base_uri": "https://localhost:8080/",
          "height": 300
        },
        "id": "ef1fjwCiulK1",
        "outputId": "1ea853ce-228a-4f15-e23d-cd3c83fe4327"
      },
      "execution_count": null,
      "outputs": [
        {
          "output_type": "execute_result",
          "data": {
            "text/plain": [
              "       critic_score   total_sales      na_sales     jp_sales     pal_sales  \\\n",
              "count   6678.000000  18922.000000  12637.000000  6726.000000  12824.000000   \n",
              "mean       7.220440      0.349113      0.264740     0.102281      0.149472   \n",
              "std        1.457066      0.807462      0.494787     0.168811      0.392653   \n",
              "min        1.000000      0.000000      0.000000     0.000000      0.000000   \n",
              "25%        6.400000      0.030000      0.050000     0.020000      0.010000   \n",
              "50%        7.500000      0.120000      0.120000     0.040000      0.040000   \n",
              "75%        8.300000      0.340000      0.280000     0.120000      0.140000   \n",
              "max       10.000000     20.320000      9.760000     2.130000      9.850000   \n",
              "\n",
              "        other_sales  \n",
              "count  15128.000000  \n",
              "mean       0.043041  \n",
              "std        0.126643  \n",
              "min        0.000000  \n",
              "25%        0.000000  \n",
              "50%        0.010000  \n",
              "75%        0.030000  \n",
              "max        3.120000  "
            ],
            "text/html": [
              "\n",
              "  <div id=\"df-226d0626-c94e-40cc-9947-c72d034c0b05\" class=\"colab-df-container\">\n",
              "    <div>\n",
              "<style scoped>\n",
              "    .dataframe tbody tr th:only-of-type {\n",
              "        vertical-align: middle;\n",
              "    }\n",
              "\n",
              "    .dataframe tbody tr th {\n",
              "        vertical-align: top;\n",
              "    }\n",
              "\n",
              "    .dataframe thead th {\n",
              "        text-align: right;\n",
              "    }\n",
              "</style>\n",
              "<table border=\"1\" class=\"dataframe\">\n",
              "  <thead>\n",
              "    <tr style=\"text-align: right;\">\n",
              "      <th></th>\n",
              "      <th>critic_score</th>\n",
              "      <th>total_sales</th>\n",
              "      <th>na_sales</th>\n",
              "      <th>jp_sales</th>\n",
              "      <th>pal_sales</th>\n",
              "      <th>other_sales</th>\n",
              "    </tr>\n",
              "  </thead>\n",
              "  <tbody>\n",
              "    <tr>\n",
              "      <th>count</th>\n",
              "      <td>6678.000000</td>\n",
              "      <td>18922.000000</td>\n",
              "      <td>12637.000000</td>\n",
              "      <td>6726.000000</td>\n",
              "      <td>12824.000000</td>\n",
              "      <td>15128.000000</td>\n",
              "    </tr>\n",
              "    <tr>\n",
              "      <th>mean</th>\n",
              "      <td>7.220440</td>\n",
              "      <td>0.349113</td>\n",
              "      <td>0.264740</td>\n",
              "      <td>0.102281</td>\n",
              "      <td>0.149472</td>\n",
              "      <td>0.043041</td>\n",
              "    </tr>\n",
              "    <tr>\n",
              "      <th>std</th>\n",
              "      <td>1.457066</td>\n",
              "      <td>0.807462</td>\n",
              "      <td>0.494787</td>\n",
              "      <td>0.168811</td>\n",
              "      <td>0.392653</td>\n",
              "      <td>0.126643</td>\n",
              "    </tr>\n",
              "    <tr>\n",
              "      <th>min</th>\n",
              "      <td>1.000000</td>\n",
              "      <td>0.000000</td>\n",
              "      <td>0.000000</td>\n",
              "      <td>0.000000</td>\n",
              "      <td>0.000000</td>\n",
              "      <td>0.000000</td>\n",
              "    </tr>\n",
              "    <tr>\n",
              "      <th>25%</th>\n",
              "      <td>6.400000</td>\n",
              "      <td>0.030000</td>\n",
              "      <td>0.050000</td>\n",
              "      <td>0.020000</td>\n",
              "      <td>0.010000</td>\n",
              "      <td>0.000000</td>\n",
              "    </tr>\n",
              "    <tr>\n",
              "      <th>50%</th>\n",
              "      <td>7.500000</td>\n",
              "      <td>0.120000</td>\n",
              "      <td>0.120000</td>\n",
              "      <td>0.040000</td>\n",
              "      <td>0.040000</td>\n",
              "      <td>0.010000</td>\n",
              "    </tr>\n",
              "    <tr>\n",
              "      <th>75%</th>\n",
              "      <td>8.300000</td>\n",
              "      <td>0.340000</td>\n",
              "      <td>0.280000</td>\n",
              "      <td>0.120000</td>\n",
              "      <td>0.140000</td>\n",
              "      <td>0.030000</td>\n",
              "    </tr>\n",
              "    <tr>\n",
              "      <th>max</th>\n",
              "      <td>10.000000</td>\n",
              "      <td>20.320000</td>\n",
              "      <td>9.760000</td>\n",
              "      <td>2.130000</td>\n",
              "      <td>9.850000</td>\n",
              "      <td>3.120000</td>\n",
              "    </tr>\n",
              "  </tbody>\n",
              "</table>\n",
              "</div>\n",
              "    <div class=\"colab-df-buttons\">\n",
              "\n",
              "  <div class=\"colab-df-container\">\n",
              "    <button class=\"colab-df-convert\" onclick=\"convertToInteractive('df-226d0626-c94e-40cc-9947-c72d034c0b05')\"\n",
              "            title=\"Convert this dataframe to an interactive table.\"\n",
              "            style=\"display:none;\">\n",
              "\n",
              "  <svg xmlns=\"http://www.w3.org/2000/svg\" height=\"24px\" viewBox=\"0 -960 960 960\">\n",
              "    <path d=\"M120-120v-720h720v720H120Zm60-500h600v-160H180v160Zm220 220h160v-160H400v160Zm0 220h160v-160H400v160ZM180-400h160v-160H180v160Zm440 0h160v-160H620v160ZM180-180h160v-160H180v160Zm440 0h160v-160H620v160Z\"/>\n",
              "  </svg>\n",
              "    </button>\n",
              "\n",
              "  <style>\n",
              "    .colab-df-container {\n",
              "      display:flex;\n",
              "      gap: 12px;\n",
              "    }\n",
              "\n",
              "    .colab-df-convert {\n",
              "      background-color: #E8F0FE;\n",
              "      border: none;\n",
              "      border-radius: 50%;\n",
              "      cursor: pointer;\n",
              "      display: none;\n",
              "      fill: #1967D2;\n",
              "      height: 32px;\n",
              "      padding: 0 0 0 0;\n",
              "      width: 32px;\n",
              "    }\n",
              "\n",
              "    .colab-df-convert:hover {\n",
              "      background-color: #E2EBFA;\n",
              "      box-shadow: 0px 1px 2px rgba(60, 64, 67, 0.3), 0px 1px 3px 1px rgba(60, 64, 67, 0.15);\n",
              "      fill: #174EA6;\n",
              "    }\n",
              "\n",
              "    .colab-df-buttons div {\n",
              "      margin-bottom: 4px;\n",
              "    }\n",
              "\n",
              "    [theme=dark] .colab-df-convert {\n",
              "      background-color: #3B4455;\n",
              "      fill: #D2E3FC;\n",
              "    }\n",
              "\n",
              "    [theme=dark] .colab-df-convert:hover {\n",
              "      background-color: #434B5C;\n",
              "      box-shadow: 0px 1px 3px 1px rgba(0, 0, 0, 0.15);\n",
              "      filter: drop-shadow(0px 1px 2px rgba(0, 0, 0, 0.3));\n",
              "      fill: #FFFFFF;\n",
              "    }\n",
              "  </style>\n",
              "\n",
              "    <script>\n",
              "      const buttonEl =\n",
              "        document.querySelector('#df-226d0626-c94e-40cc-9947-c72d034c0b05 button.colab-df-convert');\n",
              "      buttonEl.style.display =\n",
              "        google.colab.kernel.accessAllowed ? 'block' : 'none';\n",
              "\n",
              "      async function convertToInteractive(key) {\n",
              "        const element = document.querySelector('#df-226d0626-c94e-40cc-9947-c72d034c0b05');\n",
              "        const dataTable =\n",
              "          await google.colab.kernel.invokeFunction('convertToInteractive',\n",
              "                                                    [key], {});\n",
              "        if (!dataTable) return;\n",
              "\n",
              "        const docLinkHtml = 'Like what you see? Visit the ' +\n",
              "          '<a target=\"_blank\" href=https://colab.research.google.com/notebooks/data_table.ipynb>data table notebook</a>'\n",
              "          + ' to learn more about interactive tables.';\n",
              "        element.innerHTML = '';\n",
              "        dataTable['output_type'] = 'display_data';\n",
              "        await google.colab.output.renderOutput(dataTable, element);\n",
              "        const docLink = document.createElement('div');\n",
              "        docLink.innerHTML = docLinkHtml;\n",
              "        element.appendChild(docLink);\n",
              "      }\n",
              "    </script>\n",
              "  </div>\n",
              "\n",
              "\n",
              "<div id=\"df-917fd199-3da1-4f6e-a349-0551140afdf6\">\n",
              "  <button class=\"colab-df-quickchart\" onclick=\"quickchart('df-917fd199-3da1-4f6e-a349-0551140afdf6')\"\n",
              "            title=\"Suggest charts\"\n",
              "            style=\"display:none;\">\n",
              "\n",
              "<svg xmlns=\"http://www.w3.org/2000/svg\" height=\"24px\"viewBox=\"0 0 24 24\"\n",
              "     width=\"24px\">\n",
              "    <g>\n",
              "        <path d=\"M19 3H5c-1.1 0-2 .9-2 2v14c0 1.1.9 2 2 2h14c1.1 0 2-.9 2-2V5c0-1.1-.9-2-2-2zM9 17H7v-7h2v7zm4 0h-2V7h2v10zm4 0h-2v-4h2v4z\"/>\n",
              "    </g>\n",
              "</svg>\n",
              "  </button>\n",
              "\n",
              "<style>\n",
              "  .colab-df-quickchart {\n",
              "      --bg-color: #E8F0FE;\n",
              "      --fill-color: #1967D2;\n",
              "      --hover-bg-color: #E2EBFA;\n",
              "      --hover-fill-color: #174EA6;\n",
              "      --disabled-fill-color: #AAA;\n",
              "      --disabled-bg-color: #DDD;\n",
              "  }\n",
              "\n",
              "  [theme=dark] .colab-df-quickchart {\n",
              "      --bg-color: #3B4455;\n",
              "      --fill-color: #D2E3FC;\n",
              "      --hover-bg-color: #434B5C;\n",
              "      --hover-fill-color: #FFFFFF;\n",
              "      --disabled-bg-color: #3B4455;\n",
              "      --disabled-fill-color: #666;\n",
              "  }\n",
              "\n",
              "  .colab-df-quickchart {\n",
              "    background-color: var(--bg-color);\n",
              "    border: none;\n",
              "    border-radius: 50%;\n",
              "    cursor: pointer;\n",
              "    display: none;\n",
              "    fill: var(--fill-color);\n",
              "    height: 32px;\n",
              "    padding: 0;\n",
              "    width: 32px;\n",
              "  }\n",
              "\n",
              "  .colab-df-quickchart:hover {\n",
              "    background-color: var(--hover-bg-color);\n",
              "    box-shadow: 0 1px 2px rgba(60, 64, 67, 0.3), 0 1px 3px 1px rgba(60, 64, 67, 0.15);\n",
              "    fill: var(--button-hover-fill-color);\n",
              "  }\n",
              "\n",
              "  .colab-df-quickchart-complete:disabled,\n",
              "  .colab-df-quickchart-complete:disabled:hover {\n",
              "    background-color: var(--disabled-bg-color);\n",
              "    fill: var(--disabled-fill-color);\n",
              "    box-shadow: none;\n",
              "  }\n",
              "\n",
              "  .colab-df-spinner {\n",
              "    border: 2px solid var(--fill-color);\n",
              "    border-color: transparent;\n",
              "    border-bottom-color: var(--fill-color);\n",
              "    animation:\n",
              "      spin 1s steps(1) infinite;\n",
              "  }\n",
              "\n",
              "  @keyframes spin {\n",
              "    0% {\n",
              "      border-color: transparent;\n",
              "      border-bottom-color: var(--fill-color);\n",
              "      border-left-color: var(--fill-color);\n",
              "    }\n",
              "    20% {\n",
              "      border-color: transparent;\n",
              "      border-left-color: var(--fill-color);\n",
              "      border-top-color: var(--fill-color);\n",
              "    }\n",
              "    30% {\n",
              "      border-color: transparent;\n",
              "      border-left-color: var(--fill-color);\n",
              "      border-top-color: var(--fill-color);\n",
              "      border-right-color: var(--fill-color);\n",
              "    }\n",
              "    40% {\n",
              "      border-color: transparent;\n",
              "      border-right-color: var(--fill-color);\n",
              "      border-top-color: var(--fill-color);\n",
              "    }\n",
              "    60% {\n",
              "      border-color: transparent;\n",
              "      border-right-color: var(--fill-color);\n",
              "    }\n",
              "    80% {\n",
              "      border-color: transparent;\n",
              "      border-right-color: var(--fill-color);\n",
              "      border-bottom-color: var(--fill-color);\n",
              "    }\n",
              "    90% {\n",
              "      border-color: transparent;\n",
              "      border-bottom-color: var(--fill-color);\n",
              "    }\n",
              "  }\n",
              "</style>\n",
              "\n",
              "  <script>\n",
              "    async function quickchart(key) {\n",
              "      const quickchartButtonEl =\n",
              "        document.querySelector('#' + key + ' button');\n",
              "      quickchartButtonEl.disabled = true;  // To prevent multiple clicks.\n",
              "      quickchartButtonEl.classList.add('colab-df-spinner');\n",
              "      try {\n",
              "        const charts = await google.colab.kernel.invokeFunction(\n",
              "            'suggestCharts', [key], {});\n",
              "      } catch (error) {\n",
              "        console.error('Error during call to suggestCharts:', error);\n",
              "      }\n",
              "      quickchartButtonEl.classList.remove('colab-df-spinner');\n",
              "      quickchartButtonEl.classList.add('colab-df-quickchart-complete');\n",
              "    }\n",
              "    (() => {\n",
              "      let quickchartButtonEl =\n",
              "        document.querySelector('#df-917fd199-3da1-4f6e-a349-0551140afdf6 button');\n",
              "      quickchartButtonEl.style.display =\n",
              "        google.colab.kernel.accessAllowed ? 'block' : 'none';\n",
              "    })();\n",
              "  </script>\n",
              "</div>\n",
              "\n",
              "    </div>\n",
              "  </div>\n"
            ],
            "application/vnd.google.colaboratory.intrinsic+json": {
              "type": "dataframe",
              "summary": "{\n  \"name\": \"df\",\n  \"rows\": 8,\n  \"fields\": [\n    {\n      \"column\": \"critic_score\",\n      \"properties\": {\n        \"dtype\": \"number\",\n        \"std\": 2358.916553542192,\n        \"min\": 1.0,\n        \"max\": 6678.0,\n        \"num_unique_values\": 8,\n        \"samples\": [\n          7.220440251572328,\n          7.5,\n          6678.0\n        ],\n        \"semantic_type\": \"\",\n        \"description\": \"\"\n      }\n    },\n    {\n      \"column\": \"total_sales\",\n      \"properties\": {\n        \"dtype\": \"number\",\n        \"std\": 6688.831460068833,\n        \"min\": 0.0,\n        \"max\": 18922.0,\n        \"num_unique_values\": 8,\n        \"samples\": [\n          0.34911267307895577,\n          0.12,\n          18922.0\n        ],\n        \"semantic_type\": \"\",\n        \"description\": \"\"\n      }\n    },\n    {\n      \"column\": \"na_sales\",\n      \"properties\": {\n        \"dtype\": \"number\",\n        \"std\": 4467.30140696072,\n        \"min\": 0.0,\n        \"max\": 12637.0,\n        \"num_unique_values\": 8,\n        \"samples\": [\n          0.26474004906227744,\n          0.12,\n          12637.0\n        ],\n        \"semantic_type\": \"\",\n        \"description\": \"\"\n      }\n    },\n    {\n      \"column\": \"jp_sales\",\n      \"properties\": {\n        \"dtype\": \"number\",\n        \"std\": 2377.86984965158,\n        \"min\": 0.0,\n        \"max\": 6726.0,\n        \"num_unique_values\": 8,\n        \"samples\": [\n          0.10228070175438597,\n          0.04,\n          6726.0\n        ],\n        \"semantic_type\": \"\",\n        \"description\": \"\"\n      }\n    },\n    {\n      \"column\": \"pal_sales\",\n      \"properties\": {\n        \"dtype\": \"number\",\n        \"std\": 4533.43548270327,\n        \"min\": 0.0,\n        \"max\": 12824.0,\n        \"num_unique_values\": 8,\n        \"samples\": [\n          0.14947208359326264,\n          0.04,\n          12824.0\n        ],\n        \"semantic_type\": \"\",\n        \"description\": \"\"\n      }\n    },\n    {\n      \"column\": \"other_sales\",\n      \"properties\": {\n        \"dtype\": \"number\",\n        \"std\": 5348.38762755038,\n        \"min\": 0.0,\n        \"max\": 15128.0,\n        \"num_unique_values\": 7,\n        \"samples\": [\n          15128.0,\n          0.04304071919619249,\n          0.03\n        ],\n        \"semantic_type\": \"\",\n        \"description\": \"\"\n      }\n    }\n  ]\n}"
            }
          },
          "metadata": {},
          "execution_count": 6
        }
      ]
    },
    {
      "cell_type": "markdown",
      "source": [
        "Calculating the mode for each numerical column"
      ],
      "metadata": {
        "id": "jKRj15XI5Z8L"
      }
    },
    {
      "cell_type": "code",
      "source": [
        "critic_score_mode_value = df['critic_score'].mode().iloc[0]\n",
        "total_sales_mode_value = df['total_sales'].mode().iloc[0]\n",
        "na_sales_mode_value = df['na_sales'].mode().iloc[0]\n",
        "jp_sales_mode_value = df['jp_sales'].mode().iloc[0]\n",
        "pal_sales_mode_value = df['pal_sales'].mode().iloc[0]\n",
        "other_sales_mode_value = df['other_sales'].mode().iloc[0]\n",
        "print(\"Overall mode value for critic score:\", critic_score_mode_value)\n",
        "print(\"Overall mode value for total sales:\", total_sales_mode_value)\n",
        "print(\"Overall mode value for North America sales:\", na_sales_mode_value)\n",
        "print(\"Overall mode value for Japanese sales:\", jp_sales_mode_value)\n",
        "print(\"Overall mode value for Europe/Africa sales:\", pal_sales_mode_value)\n",
        "print(\"Overall mode value for other:\", other_sales_mode_value)\n"
      ],
      "metadata": {
        "colab": {
          "base_uri": "https://localhost:8080/"
        },
        "id": "v5RWXAId2wmr",
        "outputId": "18ddf3f1-918b-4a41-f063-b38f90d062fb"
      },
      "execution_count": null,
      "outputs": [
        {
          "output_type": "stream",
          "name": "stdout",
          "text": [
            "Overall mode value for critic score: 8.0\n",
            "Overall mode value for total sales: 0.01\n",
            "Overall mode value for North America sales: 0.04\n",
            "Overall mode value for Japanese sales: 0.01\n",
            "Overall mode value for Europe/Africa sales: 0.0\n",
            "Overall mode value for other: 0.0\n"
          ]
        }
      ]
    },
    {
      "cell_type": "markdown",
      "source": [
        "Calculating the range for each numerical column"
      ],
      "metadata": {
        "id": "lFAN7aEd5x4h"
      }
    },
    {
      "cell_type": "code",
      "source": [
        "critic_score_range_value = df['critic_score'].max() - df['critic_score'].min()\n",
        "total_sales_range_value = df['total_sales'].max() - df['total_sales'].min()\n",
        "na_sales_range_value = df['na_sales'].max() - df['na_sales'].min()\n",
        "jp_sales_range_value = df['jp_sales'].max() - df['jp_sales'].min()\n",
        "pal_sales_range_value = df['pal_sales'].max() - df['pal_sales'].min()\n",
        "other_sales_range_value = df['other_sales'].max() - df['other_sales'].min()\n",
        "print(\"Overall range value for critic score:\", critic_score_range_value)\n",
        "print(\"Overall range value for total sales:\", total_sales_range_value)\n",
        "print(\"Overall range value for North America sales:\", na_sales_range_value)\n",
        "print(\"Overall range value for Japanese sales:\", jp_sales_range_value)\n",
        "print(\"Overall range value for Europe/Africa sales:\", pal_sales_range_value)\n",
        "print(\"Overall range value for other:\", other_sales_range_value)\n"
      ],
      "metadata": {
        "colab": {
          "base_uri": "https://localhost:8080/"
        },
        "id": "Qh3NI4Bn5zpe",
        "outputId": "fac016a8-027c-484a-a0d2-e74de0b45325"
      },
      "execution_count": null,
      "outputs": [
        {
          "output_type": "stream",
          "name": "stdout",
          "text": [
            "Overall range value for critic score: 9.0\n",
            "Overall range value for total sales: 20.32\n",
            "Overall range value for North America sales: 9.76\n",
            "Overall range value for Japanese sales: 2.13\n",
            "Overall range value for Europe/Africa sales: 9.85\n",
            "Overall range value for other: 3.12\n"
          ]
        }
      ]
    },
    {
      "cell_type": "markdown",
      "source": [
        "variance"
      ],
      "metadata": {
        "id": "RHq8rItS7VPd"
      }
    },
    {
      "cell_type": "code",
      "source": [
        "critic_score_variance_value = df['critic_score'].var()\n",
        "total_sales_variance_value = df['total_sales'].var()\n",
        "na_sales_variance_value = df['na_sales'].var()\n",
        "jp_sales_variance_value = df['jp_sales'].var()\n",
        "pal_sales_variance_value = df['pal_sales'].var()\n",
        "other_sales_variance_value = df['other_sales'].var()\n",
        "print(\"Overall variance value for critic score:\", critic_score_variance_value)\n",
        "print(\"Overall variance value for total sales:\", total_sales_variance_value)\n",
        "print(\"Overall variance value for North America sales:\", na_sales_variance_value)\n",
        "print(\"Overall variance value for Japanese sales:\", jp_sales_variance_value)\n",
        "print(\"Overall variance value for Europe/Africa sales:\", pal_sales_variance_value)\n",
        "print(\"Overall variance value for other:\", other_sales_variance_value)\n"
      ],
      "metadata": {
        "colab": {
          "base_uri": "https://localhost:8080/"
        },
        "id": "9TEzOhko7XHb",
        "outputId": "35afa528-bfad-401d-e945-6bc742f1acad"
      },
      "execution_count": null,
      "outputs": [
        {
          "output_type": "stream",
          "name": "stdout",
          "text": [
            "Overall variance value for critic score: 2.1230402734252474\n",
            "Overall variance value for total sales: 0.6519952011934356\n",
            "Overall variance value for North America sales: 0.24481377580414443\n",
            "Overall variance value for Japanese sales: 0.028497280897410816\n",
            "Overall variance value for Europe/Africa sales: 0.15417608406815303\n",
            "Overall variance value for other: 0.01603857519117969\n"
          ]
        }
      ]
    },
    {
      "cell_type": "markdown",
      "source": [
        "Smaller variance values suggest that the data points within that particular column are closer to the mean. Hence there is less spread/dispersion of the values, as seen with total_sales,na_sales,jp_sales,pal_sales and other_sales. critic_score has a larger spread compared to the other columns."
      ],
      "metadata": {
        "id": "rkFLpyON1bR9"
      }
    },
    {
      "cell_type": "markdown",
      "source": [
        "Distribution of values and skewness"
      ],
      "metadata": {
        "id": "X1R5ZIXB9Ege"
      }
    },
    {
      "cell_type": "markdown",
      "source": [
        "- A positive skew value indicates the distribution is right skewed.\n",
        "- A negative skew value indicates the distribution is left skewed."
      ],
      "metadata": {
        "id": "yBJtA5Wp_Yty"
      }
    },
    {
      "cell_type": "code",
      "source": [
        "skew = df.skew()\n",
        "print('Skewness of numerical values:\\n',skew)"
      ],
      "metadata": {
        "colab": {
          "base_uri": "https://localhost:8080/"
        },
        "id": "pE85yw7B8emm",
        "outputId": "62fcdb2c-c31e-4753-8ba7-b15a8373bc4f"
      },
      "execution_count": null,
      "outputs": [
        {
          "output_type": "stream",
          "name": "stdout",
          "text": [
            "Skewness of numerical values:\n",
            " critic_score   -0.910637\n",
            "total_sales     8.775333\n",
            "na_sales        6.898373\n",
            "jp_sales        4.490406\n",
            "pal_sales       9.586910\n",
            "other_sales     9.794550\n",
            "dtype: float64\n"
          ]
        },
        {
          "output_type": "stream",
          "name": "stderr",
          "text": [
            "<ipython-input-10-f9d041c4a407>:1: FutureWarning: The default value of numeric_only in DataFrame.skew is deprecated. In a future version, it will default to False. In addition, specifying 'numeric_only=None' is deprecated. Select only valid columns or specify the value of numeric_only to silence this warning.\n",
            "  skew = df.skew()\n"
          ]
        }
      ]
    },
    {
      "cell_type": "code",
      "source": [
        "df.hist(bins=20, figsize=(12, 8), edgecolor='k')#generating a histogram for each numerical column\n",
        "plt.show()\n"
      ],
      "metadata": {
        "colab": {
          "base_uri": "https://localhost:8080/",
          "height": 599
        },
        "id": "yV11xP0k9HOm",
        "outputId": "b87d68c5-0a2d-4c86-d5f6-52bd13d72359"
      },
      "execution_count": null,
      "outputs": [
        {
          "output_type": "display_data",
          "data": {
            "text/plain": [
              "<Figure size 1200x800 with 6 Axes>"
            ],
            "image/png": "[encoded data removed]"
          },
          "metadata": {}
        }
      ]
    },
    {
      "cell_type": "markdown",
      "source": [
        "The histogram subplots above visualizes the skewness of the respective columns.\n",
        "- critic_score: has a longer tail on the left-hand side of the graph and has a steeper slope from the left-hand side, indicating the distribution is left skewed.\n",
        "- total_sales,na_sales,jp_sales,pal_sales and other_sales: has a longer tail on the right-hand side and has a steeper slope from the right-hand side, indicating the distributions are right skewed."
      ],
      "metadata": {
        "id": "xBPZjdPT2RXm"
      }
    },
    {
      "cell_type": "markdown",
      "source": [
        "Investigating Kurtosis"
      ],
      "metadata": {
        "id": "YcHkLqvZ-wcP"
      }
    },
    {
      "cell_type": "markdown",
      "source": [
        "- A high kurtosis indicates the distribution has a sharper peak, therefore leptokurtic.\n",
        "- A lower kurtosis indicates the distribution has a flatter peak, therefore platykurtic.\n",
        "- A kurtosis close to zero indicates a mesokurtic distribution."
      ],
      "metadata": {
        "id": "TYnUeysy_wBT"
      }
    },
    {
      "cell_type": "code",
      "source": [
        "kurtosis = df.kurtosis()\n",
        "print('Kurtosis of numerical values:\\n',kurtosis)"
      ],
      "metadata": {
        "colab": {
          "base_uri": "https://localhost:8080/"
        },
        "id": "N4-evbV_-H8h",
        "outputId": "739df23c-c82d-40b7-c3a2-88a131351b9d"
      },
      "execution_count": null,
      "outputs": [
        {
          "output_type": "stream",
          "name": "stdout",
          "text": [
            "Kurtosis of numerical values:\n",
            " critic_score      0.828948\n",
            "total_sales     125.552452\n",
            "na_sales         78.628580\n",
            "jp_sales         30.528417\n",
            "pal_sales       147.204842\n",
            "other_sales     144.484527\n",
            "dtype: float64\n"
          ]
        },
        {
          "output_type": "stream",
          "name": "stderr",
          "text": [
            "<ipython-input-12-c39db1dfa0b9>:1: FutureWarning: The default value of numeric_only in DataFrame.kurt is deprecated. In a future version, it will default to False. In addition, specifying 'numeric_only=None' is deprecated. Select only valid columns or specify the value of numeric_only to silence this warning.\n",
            "  kurtosis = df.kurtosis()\n"
          ]
        }
      ]
    },
    {
      "cell_type": "markdown",
      "source": [
        "The values provided indicates that total_sales,na_sales,jp_sales,pal_sales and other_sales possess a more leptokurtic distribution since they have relatively high kurtosis values while it suggests that critic_score posesses a more mesokurtic distribution since its kurtosis value is closer to zero."
      ],
      "metadata": {
        "id": "hcd52oDv3sQv"
      }
    },
    {
      "cell_type": "markdown",
      "source": [
        "Correlation analysis"
      ],
      "metadata": {
        "id": "UvA3DJOsBZMg"
      }
    },
    {
      "cell_type": "markdown",
      "source": [
        "- Values closer to 1 indicate a positive correlation.\n",
        "- Values closer to -1 indicate a negative correlation.\n",
        "- Values closer to 0 indicate non-linear or weak correlation."
      ],
      "metadata": {
        "id": "dikrC-M9C6tX"
      }
    },
    {
      "cell_type": "code",
      "source": [
        "num_corr = df.corr() #calculating coefficient matrix for numerical values\n",
        "\n",
        "plt.figure(figsize=(12, 8)) #setting figure size\n",
        "sns.heatmap(num_corr, annot=True, cmap='coolwarm', fmt=\".3f\", linewidths=.3) #generating heatmap with correlation coefficient values\n",
        "plt.title('Correlation Matrix of Numerical Values')\n",
        "plt.show()\n"
      ],
      "metadata": {
        "colab": {
          "base_uri": "https://localhost:8080/",
          "height": 724
        },
        "id": "9Y52jiFJ9wGG",
        "outputId": "3864a88c-f72f-43ba-ad94-c54f0a803400"
      },
      "execution_count": null,
      "outputs": [
        {
          "output_type": "stream",
          "name": "stderr",
          "text": [
            "<ipython-input-13-bd0af734a114>:1: FutureWarning: The default value of numeric_only in DataFrame.corr is deprecated. In a future version, it will default to False. Select only valid columns or specify the value of numeric_only to silence this warning.\n",
            "  num_corr = df.corr() #calculating coefficient matrix\n"
          ]
        },
        {
          "output_type": "display_data",
          "data": {
            "text/plain": [
              "<Figure size 1200x800 with 2 Axes>"
            ],
            "image/png": "[encoded data removed]"
          },
          "metadata": {}
        }
      ]
    },
    {
      "cell_type": "markdown",
      "source": [
        "Scatter Plots"
      ],
      "metadata": {
        "id": "qdzGvXQvEVbp"
      }
    },
    {
      "cell_type": "markdown",
      "source": [
        "- Points trending upwards from from left to right indicates positive correlation.\n",
        "- Points trending downwards from left to right indicates negative correlation.\n",
        "- No clear points trajectory/pattern indicates no correlation."
      ],
      "metadata": {
        "id": "1PEl3j5RPbIp"
      }
    },
    {
      "cell_type": "code",
      "source": [
        "#establishing figure size, rows and columns\n",
        "figure,axes = plt.subplots(nrows=6,ncols=2,figsize=(20,20))\n",
        "\n",
        "#plotting scatter plot in respecive positions\n",
        "axes[0,0].scatter(df['total_sales'],df['other_sales'],marker='o',color='green')\n",
        "axes[0,0].set_title('Scatter Plot of total_sales and other_sales')\n",
        "\n",
        "axes[0,1].scatter(df['total_sales'],df['pal_sales'],marker='o',color='green')\n",
        "axes[0,1].set_title('Scatter Plot of total_sales and pal_sales')\n",
        "\n",
        "axes[1,0].scatter(df['total_sales'],df['na_sales'],marker='o',color='green')\n",
        "axes[1,0].set_title('Scatter Plot of total_sales and na_sales')\n",
        "\n",
        "axes[1,1].scatter(df['na_sales'],df['other_sales'],marker='o',color='green')\n",
        "axes[1,1].set_title('Scatter Plot of na_sales and other_sales')\n",
        "\n",
        "axes[2,0].scatter(df['na_sales'],df['pal_sales'],marker='o',color='green')\n",
        "axes[2,0].set_title('Scatter Plot of na_sales and pal_sales')\n",
        "\n",
        "axes[2,1].scatter(df['critic_score'],df['jp_sales'],marker='o',color='green')\n",
        "axes[2,1].set_title('Scatter Plot of critic_score and jp_sales')\n",
        "\n",
        "axes[3,0].scatter(df['total_sales'],df['jp_sales'],marker='o',color='green')\n",
        "axes[3,0].set_title('Scatter Plot of total_sales and jp_sales')\n",
        "\n",
        "axes[3,1].scatter(df['critic_score'],df['other_sales'],marker='o',color='green')\n",
        "axes[3,1].set_title('Scatter Plot of critic_score and other_sales')\n",
        "\n",
        "axes[4,0].scatter(df['critic_score'],df['pal_sales'],marker='o',color='green')\n",
        "axes[4,0].set_title('Scatter Plot of critic_score and pal_sales')\n",
        "\n",
        "axes[4,1].scatter(df['critic_score'],df['na_sales'],marker='o',color='green')\n",
        "axes[4,1].set_title('Scatter Plot of critic_score and na_sales')\n",
        "\n",
        "axes[5,0].scatter(df['critic_score'],df['total_sales'],marker='o',color='green')\n",
        "axes[5,0].set_title('Scatter Plot of critic_score and total_sales')\n",
        "\n",
        "axes[5,1].scatter(df['na_sales'],df['jp_sales'],marker='o',color='green')\n",
        "axes[5,1].set_title('Scatter Plot of na_sales and jp_sales')\n",
        "\n",
        "plt.show()"
      ],
      "metadata": {
        "colab": {
          "base_uri": "https://localhost:8080/",
          "height": 876
        },
        "id": "8qlbNM0ZEZP5",
        "outputId": "55c0e82c-f1ab-4458-ae77-90b03d039e6a"
      },
      "execution_count": null,
      "outputs": [
        {
          "output_type": "display_data",
          "data": {
            "text/plain": [
              "<Figure size 2000x2000 with 12 Axes>"
            ],
            "image/png": "[encoded data removed]"
          },
          "metadata": {}
        }
      ]
    },
    {
      "cell_type": "markdown",
      "source": [
        "The scatter plots above suggest that total_sales has a stronger correlation with other_sales,pal_sales,jp_sales and na_sales since there is a clear trajectory pattern from the bottom left to the upper right-hand corners of the plots. While the other plots suggest little to no correlation, given that they do not have a clear trajectory pattern."
      ],
      "metadata": {
        "id": "w55Gs1-m81BT"
      }
    },
    {
      "cell_type": "markdown",
      "source": [
        "Distribution of categorical variables"
      ],
      "metadata": {
        "id": "wAdAWu-rQayx"
      }
    },
    {
      "cell_type": "markdown",
      "source": [
        "Creating frequency tables for categorical columns."
      ],
      "metadata": {
        "id": "AHxl_S64-HTn"
      }
    },
    {
      "cell_type": "code",
      "source": [
        "console_frequency = df['console'].value_counts()\n",
        "print('Frequency table for console:\\n',console_frequency)"
      ],
      "metadata": {
        "colab": {
          "base_uri": "https://localhost:8080/"
        },
        "id": "zf72h3N3Qd7N",
        "outputId": "cb043e72-eaaf-45db-f8bc-3360799d82fb"
      },
      "execution_count": null,
      "outputs": [
        {
          "output_type": "stream",
          "name": "stdout",
          "text": [
            "Frequency table for console:\n",
            " PC      12617\n",
            "PS2      3565\n",
            "DS       3288\n",
            "PS4      2878\n",
            "PS       2707\n",
            "        ...  \n",
            "TG16        3\n",
            "FDS         1\n",
            "C128        1\n",
            "Aco         1\n",
            "BBCM        1\n",
            "Name: console, Length: 81, dtype: int64\n"
          ]
        }
      ]
    },
    {
      "cell_type": "code",
      "source": [
        "genre_frequency = df['genre'].value_counts()\n",
        "print('Frequency table for genre:\\n',genre_frequency)"
      ],
      "metadata": {
        "colab": {
          "base_uri": "https://localhost:8080/"
        },
        "id": "s4D8UBSCSk0B",
        "outputId": "d5a44430-cc7b-499b-9367-2df6a5846768"
      },
      "execution_count": null,
      "outputs": [
        {
          "output_type": "stream",
          "name": "stdout",
          "text": [
            "Frequency table for genre:\n",
            " Misc                9304\n",
            "Action              8557\n",
            "Adventure           6260\n",
            "Role-Playing        5721\n",
            "Sports              5586\n",
            "Shooter             5410\n",
            "Platform            4001\n",
            "Strategy            3685\n",
            "Puzzle              3521\n",
            "Racing              3425\n",
            "Simulation          3158\n",
            "Fighting            2367\n",
            "Action-Adventure    1877\n",
            "Visual Novel         493\n",
            "Music                297\n",
            "Party                151\n",
            "MMO                  115\n",
            "Education             35\n",
            "Board Game            33\n",
            "Sandbox               20\n",
            "Name: genre, dtype: int64\n"
          ]
        }
      ]
    },
    {
      "cell_type": "code",
      "source": [
        "publisher_frequency = df['publisher'].value_counts()\n",
        "print('Frequency table for publisher:\\n',publisher_frequency)"
      ],
      "metadata": {
        "colab": {
          "base_uri": "https://localhost:8080/"
        },
        "id": "6HA89GLkSpnV",
        "outputId": "aec9b58b-d061-48ed-e207-42abf2896b2b"
      },
      "execution_count": null,
      "outputs": [
        {
          "output_type": "stream",
          "name": "stdout",
          "text": [
            "Frequency table for publisher:\n",
            " Unknown               8842\n",
            "Sega                  2207\n",
            "Ubisoft               1663\n",
            "Electronic Arts       1619\n",
            "Activision            1582\n",
            "                      ... \n",
            "Cancer Research UK       1\n",
            "XperimentalZ Games       1\n",
            "Nano Games               1\n",
            "Cooking Mama Ltd.        1\n",
            "PLAYDIUS                 1\n",
            "Name: publisher, Length: 3383, dtype: int64\n"
          ]
        }
      ]
    },
    {
      "cell_type": "code",
      "source": [
        "developer_frequency = df['developer'].value_counts()\n",
        "print('Frequency table for developer:\\n',developer_frequency)"
      ],
      "metadata": {
        "colab": {
          "base_uri": "https://localhost:8080/"
        },
        "id": "PB2AZIBgStiu",
        "outputId": "c206e2da-b3cd-4643-cff1-1adf9f9b6d3b"
      },
      "execution_count": null,
      "outputs": [
        {
          "output_type": "stream",
          "name": "stdout",
          "text": [
            "Frequency table for developer:\n",
            " Unknown             4435\n",
            "Konami               976\n",
            "Sega                 915\n",
            "Capcom               870\n",
            "Namco                489\n",
            "                    ... \n",
            "Solutions 2 Go         1\n",
            "Whampashimash          1\n",
            "Redwind Software       1\n",
            "Iron Square            1\n",
            "Paretto                1\n",
            "Name: developer, Length: 8862, dtype: int64\n"
          ]
        }
      ]
    },
    {
      "cell_type": "code",
      "source": [
        "title_frequency = df['title'].value_counts()\n",
        "print('Frequency table for title:\\n',title_frequency)"
      ],
      "metadata": {
        "colab": {
          "base_uri": "https://localhost:8080/"
        },
        "id": "OZxLqLAIp1yo",
        "outputId": "a376905d-47fb-48aa-f941-f65d64a23a83"
      },
      "execution_count": null,
      "outputs": [
        {
          "output_type": "stream",
          "name": "stdout",
          "text": [
            "Frequency table for title:\n",
            " Plants vs. Zombies                  17\n",
            "Pac-Man                             16\n",
            "Monopoly                            15\n",
            "Doom                                14\n",
            "Double Dragon                       14\n",
            "                                    ..\n",
            "Bakegyamon: Ayakashi Fighting        1\n",
            "Avatar Showdown                      1\n",
            "Avatar Fighter Online                1\n",
            "Avatar Fighter                       1\n",
            "Yurukill: The Calumniation Games     1\n",
            "Name: title, Length: 39798, dtype: int64\n"
          ]
        }
      ]
    },
    {
      "cell_type": "code",
      "source": [
        "#establishing figure size, rows and columns\n",
        "figure,axes = plt.subplots(nrows=1,ncols=4, figsize=(20,8))\n",
        "\n",
        "df['genre'].value_counts().sort_index().plot(kind='bar', ax=axes[0], color='skyblue')#sorting frequency table then plotting\n",
        "axes[0].set_title('Distribution of all genres')#setting title of plot\n",
        "axes[0].set_xlabel('Genre')#labelling x-axis\n",
        "axes[0].set_ylabel('Count')#labelling y-axis\n",
        "axes[0].grid(axis='y')#making horizontal grid visible\n",
        "axes[0].set_xticklabels(axes[0].get_xticklabels(), rotation=45, ha='right')#orienting the x-axis labels 45 degrees slanted\n",
        "\n",
        "top_consoles = df['console'].value_counts().nlargest(10)#extracting top 10 consoles from frequency table\n",
        "top_consoles.plot(kind='bar', ax=axes[1], color='skyblue')\n",
        "axes[1].set_title('Distribution of top 10 consoles')\n",
        "axes[1].set_xlabel('Console')\n",
        "axes[1].set_ylabel('Count')\n",
        "axes[1].grid(axis='y')\n",
        "axes[1].set_xticklabels(axes[1].get_xticklabels(), rotation=45, ha='right')\n",
        "\n",
        "top_publishers = df['publisher'].value_counts().nlargest(10)#extracting top 10 publishers from frequency table\n",
        "top_publishers.plot(kind='bar', ax=axes[2], color='skyblue')\n",
        "axes[2].set_title('Distribution of top 10 publishers')\n",
        "axes[2].set_xlabel('Publisher')\n",
        "axes[2].set_ylabel('Count')\n",
        "axes[2].grid(axis='y')\n",
        "axes[2].set_xticklabels(axes[2].get_xticklabels(), rotation=45, ha='right')\n",
        "\n",
        "top_developers = df['developer'].value_counts().nlargest(10)#extracting top 10 developers from frequency table\n",
        "top_developers.plot(kind='bar', ax=axes[3], color='skyblue')\n",
        "axes[3].set_title('Distribution of top 10 developers')\n",
        "axes[3].set_xlabel('Developer')\n",
        "axes[3].set_ylabel('Count')\n",
        "axes[3].grid(axis='y')\n",
        "axes[3].set_xticklabels(axes[2].get_xticklabels(), rotation=45, ha='right')\n",
        "\n",
        "plt.tight_layout()\n",
        "plt.show()"
      ],
      "metadata": {
        "colab": {
          "base_uri": "https://localhost:8080/",
          "height": 358
        },
        "id": "tPmC-24aUbM-",
        "outputId": "c816d2c9-c6e2-4233-fe22-8396b5118237"
      },
      "execution_count": null,
      "outputs": [
        {
          "output_type": "display_data",
          "data": {
            "text/plain": [
              "<Figure size 2000x800 with 4 Axes>"
            ],
            "image/png": "[encoded data removed]"
          },
          "metadata": {}
        }
      ]
    },
    {
      "cell_type": "markdown",
      "source": [
        "The top 10 consoles, publishers and developers were chosen to allow for readibility and presentation of the visualization."
      ],
      "metadata": {
        "id": "cwQSbaM6EbCD"
      }
    },
    {
      "cell_type": "markdown",
      "source": [
        "##Data Preprocessing"
      ],
      "metadata": {
        "id": "QiBNRtLmwd29"
      }
    },
    {
      "cell_type": "markdown",
      "source": [
        "Utilizing label encoding for categorical columns"
      ],
      "metadata": {
        "id": "uCs1rVI1m7f9"
      }
    },
    {
      "cell_type": "markdown",
      "source": [
        "*Note: label encoding cells were ran after chi-square analysis so as not to interfere with the initial assumption that the categorical values are independent. Which encoding affects.*"
      ],
      "metadata": {
        "id": "gM6e5UnUE5Uh"
      }
    },
    {
      "cell_type": "code",
      "source": [
        "label_encoder = LabelEncoder()\n",
        "\n",
        "#encoding console column\n",
        "df['console'] = label_encoder.fit_transform(df['console'])\n",
        "print(df['console'])"
      ],
      "metadata": {
        "id": "S-hspxYWwh4z",
        "colab": {
          "base_uri": "https://localhost:8080/"
        },
        "outputId": "8b3c664c-d116-4d2f-8546-3941abad3ca6"
      },
      "execution_count": null,
      "outputs": [
        {
          "output_type": "stream",
          "name": "stdout",
          "text": [
            "0        54\n",
            "1        55\n",
            "2        53\n",
            "3        73\n",
            "4        55\n",
            "         ..\n",
            "64011    49\n",
            "64012    55\n",
            "64013    45\n",
            "64014    45\n",
            "64015    55\n",
            "Name: console, Length: 64016, dtype: int64\n"
          ]
        }
      ]
    },
    {
      "cell_type": "code",
      "source": [
        "#encoding genre column\n",
        "df['genre'] = label_encoder.fit_transform(df['genre'])\n",
        "print(df['genre'])"
      ],
      "metadata": {
        "colab": {
          "base_uri": "https://localhost:8080/"
        },
        "id": "pFNv3pYBovNC",
        "outputId": "2cdf7cb4-db0a-49bb-c64a-ca35edf4df52"
      },
      "execution_count": null,
      "outputs": [
        {
          "output_type": "stream",
          "name": "stdout",
          "text": [
            "0         0\n",
            "1         0\n",
            "2         0\n",
            "3         0\n",
            "4        15\n",
            "         ..\n",
            "64011    19\n",
            "64012    19\n",
            "64013    19\n",
            "64014    19\n",
            "64015    19\n",
            "Name: genre, Length: 64016, dtype: int64\n"
          ]
        }
      ]
    },
    {
      "cell_type": "code",
      "source": [
        "#encoding publisher column\n",
        "df['publisher'] = label_encoder.fit_transform(df['publisher'])\n",
        "print(df['publisher'])"
      ],
      "metadata": {
        "colab": {
          "base_uri": "https://localhost:8080/"
        },
        "id": "VYcMSXgupIQn",
        "outputId": "a1f3325f-b6f7-4b84-d641-a49fd320f39d"
      },
      "execution_count": null,
      "outputs": [
        {
          "output_type": "stream",
          "name": "stdout",
          "text": [
            "0        2445\n",
            "1        2445\n",
            "2        2445\n",
            "3        2445\n",
            "4         101\n",
            "         ... \n",
            "64011     131\n",
            "64012    2023\n",
            "64013    2023\n",
            "64014    1349\n",
            "64015    3062\n",
            "Name: publisher, Length: 64016, dtype: int64\n"
          ]
        }
      ]
    },
    {
      "cell_type": "code",
      "source": [
        "#encoding developer column\n",
        "df['developer'] = label_encoder.fit_transform(df['developer'])\n",
        "print(df['developer'])"
      ],
      "metadata": {
        "colab": {
          "base_uri": "https://localhost:8080/"
        },
        "id": "Wr1IQEjmpWFN",
        "outputId": "4d600ead-e036-4a3c-8db2-376df455a7c6"
      },
      "execution_count": null,
      "outputs": [
        {
          "output_type": "stream",
          "name": "stdout",
          "text": [
            "0        6366\n",
            "1        6366\n",
            "2        6366\n",
            "3        6366\n",
            "4        7828\n",
            "         ... \n",
            "64011     518\n",
            "64012    5297\n",
            "64013    5297\n",
            "64014    5505\n",
            "64015    2853\n",
            "Name: developer, Length: 64016, dtype: int64\n"
          ]
        }
      ]
    },
    {
      "cell_type": "code",
      "source": [
        "#encoding title column\n",
        "df['title'] = label_encoder.fit_transform(df['title'])\n",
        "print(df['title'])"
      ],
      "metadata": {
        "colab": {
          "base_uri": "https://localhost:8080/"
        },
        "id": "7P1pvWFxqcVY",
        "outputId": "d77f71a0-8c3c-4737-abc9-2692bd3e4952"
      },
      "execution_count": null,
      "outputs": [
        {
          "output_type": "stream",
          "name": "stdout",
          "text": [
            "0        13724\n",
            "1        13724\n",
            "2        13736\n",
            "3        13724\n",
            "4         5271\n",
            "         ...  \n",
            "64011    38814\n",
            "64012    39070\n",
            "64013    39070\n",
            "64014    39258\n",
            "64015    39262\n",
            "Name: title, Length: 64016, dtype: int64\n"
          ]
        }
      ]
    },
    {
      "cell_type": "markdown",
      "source": [
        "Dropping irrelevant columns"
      ],
      "metadata": {
        "id": "eDYoftsCqisH"
      }
    },
    {
      "cell_type": "code",
      "source": [
        "#last_update,release_date and img columns were deemed not important for further analysis\n",
        "df = df.drop('last_update', axis=1)\n",
        "df = df.drop('release_date', axis=1)\n",
        "df = df.drop('img', axis=1)"
      ],
      "metadata": {
        "collapsed": true,
        "id": "1-vAsnxxrJwJ"
      },
      "execution_count": null,
      "outputs": []
    },
    {
      "cell_type": "code",
      "source": [
        "#checking to ensure the columns above were dropped\n",
        "df.head(0)"
      ],
      "metadata": {
        "colab": {
          "base_uri": "https://localhost:8080/",
          "height": 73
        },
        "id": "KJK6YjVSrtBS",
        "outputId": "7b53ae48-07a2-453f-cdee-3598fd648f64"
      },
      "execution_count": null,
      "outputs": [
        {
          "output_type": "execute_result",
          "data": {
            "text/plain": [
              "Empty DataFrame\n",
              "Columns: [title, console, genre, publisher, developer, critic_score, total_sales, na_sales, jp_sales, pal_sales, other_sales]\n",
              "Index: []"
            ],
            "text/html": [
              "\n",
              "  <div id=\"df-4ac3ceb1-02b8-4479-855c-462c8c6e0d47\" class=\"colab-df-container\">\n",
              "    <div>\n",
              "<style scoped>\n",
              "    .dataframe tbody tr th:only-of-type {\n",
              "        vertical-align: middle;\n",
              "    }\n",
              "\n",
              "    .dataframe tbody tr th {\n",
              "        vertical-align: top;\n",
              "    }\n",
              "\n",
              "    .dataframe thead th {\n",
              "        text-align: right;\n",
              "    }\n",
              "</style>\n",
              "<table border=\"1\" class=\"dataframe\">\n",
              "  <thead>\n",
              "    <tr style=\"text-align: right;\">\n",
              "      <th></th>\n",
              "      <th>title</th>\n",
              "      <th>console</th>\n",
              "      <th>genre</th>\n",
              "      <th>publisher</th>\n",
              "      <th>developer</th>\n",
              "      <th>critic_score</th>\n",
              "      <th>total_sales</th>\n",
              "      <th>na_sales</th>\n",
              "      <th>jp_sales</th>\n",
              "      <th>pal_sales</th>\n",
              "      <th>other_sales</th>\n",
              "    </tr>\n",
              "  </thead>\n",
              "  <tbody>\n",
              "  </tbody>\n",
              "</table>\n",
              "</div>\n",
              "    <div class=\"colab-df-buttons\">\n",
              "\n",
              "  <div class=\"colab-df-container\">\n",
              "    <button class=\"colab-df-convert\" onclick=\"convertToInteractive('df-4ac3ceb1-02b8-4479-855c-462c8c6e0d47')\"\n",
              "            title=\"Convert this dataframe to an interactive table.\"\n",
              "            style=\"display:none;\">\n",
              "\n",
              "  <svg xmlns=\"http://www.w3.org/2000/svg\" height=\"24px\" viewBox=\"0 -960 960 960\">\n",
              "    <path d=\"M120-120v-720h720v720H120Zm60-500h600v-160H180v160Zm220 220h160v-160H400v160Zm0 220h160v-160H400v160ZM180-400h160v-160H180v160Zm440 0h160v-160H620v160ZM180-180h160v-160H180v160Zm440 0h160v-160H620v160Z\"/>\n",
              "  </svg>\n",
              "    </button>\n",
              "\n",
              "  <style>\n",
              "    .colab-df-container {\n",
              "      display:flex;\n",
              "      gap: 12px;\n",
              "    }\n",
              "\n",
              "    .colab-df-convert {\n",
              "      background-color: #E8F0FE;\n",
              "      border: none;\n",
              "      border-radius: 50%;\n",
              "      cursor: pointer;\n",
              "      display: none;\n",
              "      fill: #1967D2;\n",
              "      height: 32px;\n",
              "      padding: 0 0 0 0;\n",
              "      width: 32px;\n",
              "    }\n",
              "\n",
              "    .colab-df-convert:hover {\n",
              "      background-color: #E2EBFA;\n",
              "      box-shadow: 0px 1px 2px rgba(60, 64, 67, 0.3), 0px 1px 3px 1px rgba(60, 64, 67, 0.15);\n",
              "      fill: #174EA6;\n",
              "    }\n",
              "\n",
              "    .colab-df-buttons div {\n",
              "      margin-bottom: 4px;\n",
              "    }\n",
              "\n",
              "    [theme=dark] .colab-df-convert {\n",
              "      background-color: #3B4455;\n",
              "      fill: #D2E3FC;\n",
              "    }\n",
              "\n",
              "    [theme=dark] .colab-df-convert:hover {\n",
              "      background-color: #434B5C;\n",
              "      box-shadow: 0px 1px 3px 1px rgba(0, 0, 0, 0.15);\n",
              "      filter: drop-shadow(0px 1px 2px rgba(0, 0, 0, 0.3));\n",
              "      fill: #FFFFFF;\n",
              "    }\n",
              "  </style>\n",
              "\n",
              "    <script>\n",
              "      const buttonEl =\n",
              "        document.querySelector('#df-4ac3ceb1-02b8-4479-855c-462c8c6e0d47 button.colab-df-convert');\n",
              "      buttonEl.style.display =\n",
              "        google.colab.kernel.accessAllowed ? 'block' : 'none';\n",
              "\n",
              "      async function convertToInteractive(key) {\n",
              "        const element = document.querySelector('#df-4ac3ceb1-02b8-4479-855c-462c8c6e0d47');\n",
              "        const dataTable =\n",
              "          await google.colab.kernel.invokeFunction('convertToInteractive',\n",
              "                                                    [key], {});\n",
              "        if (!dataTable) return;\n",
              "\n",
              "        const docLinkHtml = 'Like what you see? Visit the ' +\n",
              "          '<a target=\"_blank\" href=https://colab.research.google.com/notebooks/data_table.ipynb>data table notebook</a>'\n",
              "          + ' to learn more about interactive tables.';\n",
              "        element.innerHTML = '';\n",
              "        dataTable['output_type'] = 'display_data';\n",
              "        await google.colab.output.renderOutput(dataTable, element);\n",
              "        const docLink = document.createElement('div');\n",
              "        docLink.innerHTML = docLinkHtml;\n",
              "        element.appendChild(docLink);\n",
              "      }\n",
              "    </script>\n",
              "  </div>\n",
              "\n",
              "\n",
              "    </div>\n",
              "  </div>\n"
            ],
            "application/vnd.google.colaboratory.intrinsic+json": {
              "type": "dataframe",
              "variable_name": "df",
              "summary": "{\n  \"name\": \"df\",\n  \"rows\": 64016,\n  \"fields\": [\n    {\n      \"column\": \"title\",\n      \"properties\": {\n        \"dtype\": \"string\",\n        \"num_unique_values\": 39798,\n        \"samples\": [\n          \"Sokukoku no Kusabi: Hiiro no Kakera 3 Portable\",\n          \"Fit in Six\",\n          \"Destination Earthstar\"\n        ],\n        \"semantic_type\": \"\",\n        \"description\": \"\"\n      }\n    },\n    {\n      \"column\": \"console\",\n      \"properties\": {\n        \"dtype\": \"category\",\n        \"num_unique_values\": 81,\n        \"samples\": [\n          \"WW\",\n          \"PS3\",\n          \"GC\"\n        ],\n        \"semantic_type\": \"\",\n        \"description\": \"\"\n      }\n    },\n    {\n      \"column\": \"genre\",\n      \"properties\": {\n        \"dtype\": \"category\",\n        \"num_unique_values\": 20,\n        \"samples\": [\n          \"Action\",\n          \"Education\",\n          \"Sandbox\"\n        ],\n        \"semantic_type\": \"\",\n        \"description\": \"\"\n      }\n    },\n    {\n      \"column\": \"publisher\",\n      \"properties\": {\n        \"dtype\": \"category\",\n        \"num_unique_values\": 3383,\n        \"samples\": [\n          \"Planet Entertainment\",\n          \"Tommo\",\n          \"Klei Entertainment\"\n        ],\n        \"semantic_type\": \"\",\n        \"description\": \"\"\n      }\n    },\n    {\n      \"column\": \"developer\",\n      \"properties\": {\n        \"dtype\": \"category\",\n        \"num_unique_values\": 8862,\n        \"samples\": [\n          \"niceplay games\",\n          \"Cobra Mobile\",\n          \"Probe Software\"\n        ],\n        \"semantic_type\": \"\",\n        \"description\": \"\"\n      }\n    },\n    {\n      \"column\": \"critic_score\",\n      \"properties\": {\n        \"dtype\": \"number\",\n        \"std\": 1.4570656379948184,\n        \"min\": 1.0,\n        \"max\": 10.0,\n        \"num_unique_values\": 89,\n        \"samples\": [\n          6.0,\n          5.0,\n          6.8\n        ],\n        \"semantic_type\": \"\",\n        \"description\": \"\"\n      }\n    },\n    {\n      \"column\": \"total_sales\",\n      \"properties\": {\n        \"dtype\": \"number\",\n        \"std\": 0.8074621979965598,\n        \"min\": 0.0,\n        \"max\": 20.32,\n        \"num_unique_values\": 482,\n        \"samples\": [\n          0.65,\n          0.09,\n          3.11\n        ],\n        \"semantic_type\": \"\",\n        \"description\": \"\"\n      }\n    },\n    {\n      \"column\": \"na_sales\",\n      \"properties\": {\n        \"dtype\": \"number\",\n        \"std\": 0.4947865962252256,\n        \"min\": 0.0,\n        \"max\": 9.76,\n        \"num_unique_values\": 320,\n        \"samples\": [\n          2.43,\n          2.38,\n          0.84\n        ],\n        \"semantic_type\": \"\",\n        \"description\": \"\"\n      }\n    },\n    {\n      \"column\": \"jp_sales\",\n      \"properties\": {\n        \"dtype\": \"number\",\n        \"std\": 0.1688113766824109,\n        \"min\": 0.0,\n        \"max\": 2.13,\n        \"num_unique_values\": 121,\n        \"samples\": [\n          0.0,\n          0.59,\n          0.41\n        ],\n        \"semantic_type\": \"\",\n        \"description\": \"\"\n      }\n    },\n    {\n      \"column\": \"pal_sales\",\n      \"properties\": {\n        \"dtype\": \"number\",\n        \"std\": 0.3926526251894326,\n        \"min\": 0.0,\n        \"max\": 9.85,\n        \"num_unique_values\": 256,\n        \"samples\": [\n          1.0,\n          3.73,\n          1.38\n        ],\n        \"semantic_type\": \"\",\n        \"description\": \"\"\n      }\n    },\n    {\n      \"column\": \"other_sales\",\n      \"properties\": {\n        \"dtype\": \"number\",\n        \"std\": 0.12664349644249281,\n        \"min\": 0.0,\n        \"max\": 3.12,\n        \"num_unique_values\": 133,\n        \"samples\": [\n          0.23,\n          0.66,\n          1.74\n        ],\n        \"semantic_type\": \"\",\n        \"description\": \"\"\n      }\n    }\n  ]\n}"
            }
          },
          "metadata": {},
          "execution_count": 5
        }
      ]
    },
    {
      "cell_type": "code",
      "source": [
        "#checking for null columns\n",
        "df.info()"
      ],
      "metadata": {
        "colab": {
          "base_uri": "https://localhost:8080/"
        },
        "id": "-tls6atksA39",
        "outputId": "fbaa6149-1a66-4270-a3e1-a7b7ec9a8ef8"
      },
      "execution_count": null,
      "outputs": [
        {
          "output_type": "stream",
          "name": "stdout",
          "text": [
            "<class 'pandas.core.frame.DataFrame'>\n",
            "RangeIndex: 64016 entries, 0 to 64015\n",
            "Data columns (total 11 columns):\n",
            " #   Column        Non-Null Count  Dtype  \n",
            "---  ------        --------------  -----  \n",
            " 0   title         64016 non-null  object \n",
            " 1   console       64016 non-null  object \n",
            " 2   genre         64016 non-null  object \n",
            " 3   publisher     64016 non-null  object \n",
            " 4   developer     63999 non-null  object \n",
            " 5   critic_score  6678 non-null   float64\n",
            " 6   total_sales   18922 non-null  float64\n",
            " 7   na_sales      12637 non-null  float64\n",
            " 8   jp_sales      6726 non-null   float64\n",
            " 9   pal_sales     12824 non-null  float64\n",
            " 10  other_sales   15128 non-null  float64\n",
            "dtypes: float64(6), object(5)\n",
            "memory usage: 5.4+ MB\n"
          ]
        }
      ]
    },
    {
      "cell_type": "markdown",
      "source": [
        "Filling null values in numerical columns with their corresponding medians"
      ],
      "metadata": {
        "id": "OdujpOuYzHSg"
      }
    },
    {
      "cell_type": "code",
      "source": [
        "df['critic_score'] = df['critic_score'].fillna(df['critic_score'].median())\n",
        "df['total_sales'] = df['total_sales'].fillna(df['total_sales'].median())\n",
        "df['na_sales'] = df['na_sales'].fillna(df['na_sales'].median())\n",
        "df['jp_sales'] = df['jp_sales'].fillna(df['jp_sales'].median())\n",
        "df['pal_sales'] = df['pal_sales'].fillna(df['pal_sales'].median())\n",
        "df['other_sales'] = df['other_sales'].fillna(df['other_sales'].median())"
      ],
      "metadata": {
        "id": "MmvkSYcBzPHU"
      },
      "execution_count": null,
      "outputs": []
    },
    {
      "cell_type": "code",
      "source": [
        "#checking to ensure previous null columns are now filled\n",
        "df.info()"
      ],
      "metadata": {
        "colab": {
          "base_uri": "https://localhost:8080/"
        },
        "id": "kAXaXig1z_Qy",
        "outputId": "9f0028e4-b88d-4dcc-f195-f5392454ff6f"
      },
      "execution_count": null,
      "outputs": [
        {
          "output_type": "stream",
          "name": "stdout",
          "text": [
            "<class 'pandas.core.frame.DataFrame'>\n",
            "RangeIndex: 64016 entries, 0 to 64015\n",
            "Data columns (total 11 columns):\n",
            " #   Column        Non-Null Count  Dtype  \n",
            "---  ------        --------------  -----  \n",
            " 0   title         64016 non-null  object \n",
            " 1   console       64016 non-null  object \n",
            " 2   genre         64016 non-null  object \n",
            " 3   publisher     64016 non-null  object \n",
            " 4   developer     63999 non-null  object \n",
            " 5   critic_score  64016 non-null  float64\n",
            " 6   total_sales   64016 non-null  float64\n",
            " 7   na_sales      64016 non-null  float64\n",
            " 8   jp_sales      64016 non-null  float64\n",
            " 9   pal_sales     64016 non-null  float64\n",
            " 10  other_sales   64016 non-null  float64\n",
            "dtypes: float64(6), object(5)\n",
            "memory usage: 5.4+ MB\n"
          ]
        }
      ]
    },
    {
      "cell_type": "markdown",
      "source": [
        "##Statistical Analysis"
      ],
      "metadata": {
        "id": "RIJWnbCcwiU6"
      }
    },
    {
      "cell_type": "markdown",
      "source": [
        "Hypothesis testing"
      ],
      "metadata": {
        "id": "fi9iLtrJ0W6G"
      }
    },
    {
      "cell_type": "markdown",
      "source": [
        "**Independent t-tests**"
      ],
      "metadata": {
        "id": "eTI3ob12fL0F"
      }
    },
    {
      "cell_type": "markdown",
      "source": [
        "*Note: Independent t-tests were specifically conducted on parameters that had little or no correlation based on data exploration done above.*"
      ],
      "metadata": {
        "id": "dwr-bZtAIOuX"
      }
    },
    {
      "cell_type": "markdown",
      "source": [
        "Comparing critic_score between high and low total_sales"
      ],
      "metadata": {
        "id": "3kVH6gaPfg_C"
      }
    },
    {
      "cell_type": "markdown",
      "source": [
        " - Null Hypothesis: There is no significant difference between mean critic scores and mean high and low total sales.\n",
        " - Alternative Hypothesis: There is a significant difference between mean critic scores and mean high and low total sales."
      ],
      "metadata": {
        "id": "XxqCg_lMfrvc"
      }
    },
    {
      "cell_type": "code",
      "source": [
        "alpha = 0.05 # setting significance level"
      ],
      "metadata": {
        "id": "cL8cPUTSLAJH"
      },
      "execution_count": null,
      "outputs": []
    },
    {
      "cell_type": "code",
      "source": [
        "t_stat,p_val = stats.ttest_ind(df['critic_score'],df['total_sales']) # calculating the test statistic and p-value\n",
        "# comparing p-value and significance level\n",
        "if p_val > alpha:\n",
        "  print('Fail to reject null hypothesis. There is no significant difference the between mean critic scores and mean high and low total sales.')\n",
        "else:\n",
        "  print('Reject the null hypothesis. There is a significant difference between mean critic scores and mean high and low total sales.')"
      ],
      "metadata": {
        "id": "0yTJtSgiwmrR",
        "colab": {
          "base_uri": "https://localhost:8080/"
        },
        "outputId": "90797395-1cfd-4a1a-ba1c-63c3982f8c92"
      },
      "execution_count": null,
      "outputs": [
        {
          "output_type": "stream",
          "name": "stdout",
          "text": [
            "Reject the null hypothesis. There is a significant difference between mean critic scores and mean high and low total sales.\n"
          ]
        }
      ]
    },
    {
      "cell_type": "markdown",
      "source": [
        "Comparing critic_score and North American sales"
      ],
      "metadata": {
        "id": "VpJD3mrDnQCb"
      }
    },
    {
      "cell_type": "markdown",
      "source": [
        " - Null Hypothesis: There is no significant difference between mean critic scores and mean North American sales.\n",
        " - Alternative Hypothesis: There is a significant difference between mean critic scores and mean North American sales.\n"
      ],
      "metadata": {
        "id": "gHPGPqglnk_B"
      }
    },
    {
      "cell_type": "code",
      "source": [
        "t_stat,p_val = stats.ttest_ind(df['critic_score'],df['na_sales']) # calculating the test statistic and p-value\n",
        "# comparing p-value and significance level\n",
        "if p_val > alpha:\n",
        "  print('Fail to reject null hypothesis. There is no significant difference between mean critic scores and mean North American sales.')\n",
        "else:\n",
        "  print('Reject the null hypothesis. There is a significant difference between mean critic scores and mean North American sales.')"
      ],
      "metadata": {
        "colab": {
          "base_uri": "https://localhost:8080/"
        },
        "id": "72dtFoSxn5Z7",
        "outputId": "9c5abd81-edfc-4838-f0a5-d5200ff99093"
      },
      "execution_count": null,
      "outputs": [
        {
          "output_type": "stream",
          "name": "stdout",
          "text": [
            "Reject the null hypothesis. There is a significant difference between mean critic scores and mean North American sales.\n"
          ]
        }
      ]
    },
    {
      "cell_type": "markdown",
      "source": [
        "Comparing critic_score and Japanese sales"
      ],
      "metadata": {
        "id": "lwHlUNSMokpj"
      }
    },
    {
      "cell_type": "markdown",
      "source": [
        " - Null Hypothesis: There is no significant difference between mean critic scores and mean Japanese sales.\n",
        " - Alternative Hypothesis: There is a significant difference between mean critic scores and mean Japanese sales."
      ],
      "metadata": {
        "id": "Yxgbp_WEop_-"
      }
    },
    {
      "cell_type": "code",
      "source": [
        "t_stat,p_val = stats.ttest_ind(df['critic_score'],df['jp_sales']) # calculating the test statistic and p-value\n",
        "# comparing p-value and significance level\n",
        "if p_val > alpha:\n",
        "  print('Fail to reject null hypothesis. There is no significant difference between mean critic scores and mean Japanese sales.')\n",
        "else:\n",
        "  print('Reject the null hypothesis. There is a significant difference between mean critic scores and mean Japanese sales.')"
      ],
      "metadata": {
        "colab": {
          "base_uri": "https://localhost:8080/"
        },
        "id": "xL1ZhEnhnPtX",
        "outputId": "a04ef55f-7aeb-43ad-f858-6e8110aa4169"
      },
      "execution_count": null,
      "outputs": [
        {
          "output_type": "stream",
          "name": "stdout",
          "text": [
            "Reject the null hypothesis. There is a significant difference between mean critic scores and mean Japanese sales.\n"
          ]
        }
      ]
    },
    {
      "cell_type": "markdown",
      "source": [
        "Comparing critic_score and Europe/Africa sales"
      ],
      "metadata": {
        "id": "lUalhnkApQrd"
      }
    },
    {
      "cell_type": "markdown",
      "source": [
        " - Null Hypothesis: There is no significant difference between mean critic scores and mean Europe/Africa sales.\n",
        " - Alternative Hypothesis: There is a significant difference between mean critic scores and mean Europe/Africa sales."
      ],
      "metadata": {
        "id": "rTrSpsECpVGi"
      }
    },
    {
      "cell_type": "code",
      "source": [
        "t_stat,p_val = stats.ttest_ind(df['critic_score'],df['pal_sales']) # calculating the test statistic and p-value\n",
        "# comparing p-value and significance level\n",
        "if p_val > alpha:\n",
        "  print('Fail to reject null hypothesis. There is no significant difference between mean critic scores and mean Europe/Africa sales.')\n",
        "else:\n",
        "  print('Reject the null hypothesis. There is a significant difference between mean critic scores and mean Europe/Africa sales.')"
      ],
      "metadata": {
        "colab": {
          "base_uri": "https://localhost:8080/"
        },
        "id": "WtY2K4uDpMXo",
        "outputId": "52122624-28f4-4529-c643-5e8735f303c1"
      },
      "execution_count": null,
      "outputs": [
        {
          "output_type": "stream",
          "name": "stdout",
          "text": [
            "Reject the null hypothesis. There is a significant difference between mean critic scores and mean Europe/Africa sales.\n"
          ]
        }
      ]
    },
    {
      "cell_type": "markdown",
      "source": [
        "Comparing critic_score and other sales"
      ],
      "metadata": {
        "id": "nT4pw1wyprl3"
      }
    },
    {
      "cell_type": "markdown",
      "source": [
        " - Null Hypothesis: There is no significant difference between mean critic scores and mean Other sales.\n",
        " - Alternative Hypothesis: There is a significant difference between mean critic scores and mean Other sales."
      ],
      "metadata": {
        "id": "F3_2lSpGpubM"
      }
    },
    {
      "cell_type": "code",
      "source": [
        "t_stat,p_val = stats.ttest_ind(df['critic_score'],df['other_sales']) # calculating the test statistic and p-value\n",
        "# comparing p-value andsignificance level\n",
        "if p_val > alpha:\n",
        "  print('Fail to reject null hypothesis. There is no significant difference between mean critic scores and mean Other sales.')\n",
        "else:\n",
        "  print('Reject the null hypothesis. There is a significant difference between mean critic scores and mean Other sales.')"
      ],
      "metadata": {
        "colab": {
          "base_uri": "https://localhost:8080/"
        },
        "id": "cjCoEu1VpztZ",
        "outputId": "d10aed36-f34a-4ca7-d662-9dc9700da7ed"
      },
      "execution_count": null,
      "outputs": [
        {
          "output_type": "stream",
          "name": "stdout",
          "text": [
            "Reject the null hypothesis. There is a significant difference between mean critic scores and mean Other sales.\n"
          ]
        }
      ]
    },
    {
      "cell_type": "markdown",
      "source": [
        "**Paired t-tests**"
      ],
      "metadata": {
        "id": "td16Uj6wqHaE"
      }
    },
    {
      "cell_type": "markdown",
      "source": [
        "*Note: Paired t-tests were specifically done on parameters that have strong correlations based on data exploration done above.*"
      ],
      "metadata": {
        "id": "l9rTBmdaIoVQ"
      }
    },
    {
      "cell_type": "markdown",
      "source": [
        "Comparing total sales and other sales"
      ],
      "metadata": {
        "id": "UpnRKl1aq9ZV"
      }
    },
    {
      "cell_type": "markdown",
      "source": [
        " - Null Hypothesis: There is no significant difference between mean total sales and mean Other sales.\n",
        " - Alternative Hypothesis: There is a significant difference between mean total sales and mean Other sales."
      ],
      "metadata": {
        "id": "9NGXFYNWrCFC"
      }
    },
    {
      "cell_type": "code",
      "source": [
        "t_stat,p_val = stats.ttest_rel(df['total_sales'],df['other_sales']) # calculating the test statistic and p-value\n",
        "# comparing p-value andsignificance level\n",
        "if p_val > alpha:\n",
        "  print('Fail to reject null hypothesis. There is no significant difference between mean total sales and mean Other sales.')\n",
        "else:\n",
        "  print('Reject the null hypothesis. There is a significant difference between mean total sales and mean Other sales.')"
      ],
      "metadata": {
        "colab": {
          "base_uri": "https://localhost:8080/"
        },
        "id": "XzIIRO_aqJpX",
        "outputId": "0590a05c-fef9-4bc9-a096-77a27d19a13d"
      },
      "execution_count": null,
      "outputs": [
        {
          "output_type": "stream",
          "name": "stdout",
          "text": [
            "Reject the null hypothesis. There is a significant difference between mean total sales and mean Other sales.\n"
          ]
        }
      ]
    },
    {
      "cell_type": "markdown",
      "source": [
        "Comparing total sales and North American sales"
      ],
      "metadata": {
        "id": "BSs7CNMzubz7"
      }
    },
    {
      "cell_type": "markdown",
      "source": [
        " - Null Hypothesis: There is no significant difference between mean total sales and mean North America sales.\n",
        " - Alternative Hypothesis: There is a significant difference between mean total sales and mean North America sales."
      ],
      "metadata": {
        "id": "q8yP8UPyugqO"
      }
    },
    {
      "cell_type": "code",
      "source": [
        "t_stat,p_val = stats.ttest_rel(df['total_sales'],df['na_sales']) # calculating the test statistic and p-value\n",
        "# comparing p-value andsignificance level\n",
        "if p_val > alpha:\n",
        "  print('Fail to reject null hypothesis. There is no significant difference between mean total sales and mean North America sales.')\n",
        "else:\n",
        "  print('Reject the null hypothesis. There is a significant difference between mean total sales and mean North America sales.')"
      ],
      "metadata": {
        "colab": {
          "base_uri": "https://localhost:8080/"
        },
        "id": "E5OceWBbupdB",
        "outputId": "da88d98b-46c8-4fec-c4dc-c11a7f068e72"
      },
      "execution_count": null,
      "outputs": [
        {
          "output_type": "stream",
          "name": "stdout",
          "text": [
            "Reject the null hypothesis. There is a significant difference between mean total sales and mean North America sales.\n"
          ]
        }
      ]
    },
    {
      "cell_type": "markdown",
      "source": [
        "Comparing total sales and Japan sales"
      ],
      "metadata": {
        "id": "LWua4IOdu4rg"
      }
    },
    {
      "cell_type": "markdown",
      "source": [
        " - Null Hypothesis: There is no significant difference between mean total sales and mean Japan sales.\n",
        " - Alternative Hypothesis: There is a significant difference between mean total sales and mean Japan sales."
      ],
      "metadata": {
        "id": "3xZwDhQtu744"
      }
    },
    {
      "cell_type": "code",
      "source": [
        "t_stat,p_val = stats.ttest_rel(df['total_sales'],df['jp_sales']) # calculating the test statistic and p-value\n",
        "# comparing p-value andsignificance level\n",
        "if p_val > alpha:\n",
        "  print('Fail to reject null hypothesis. There is no significant difference between mean total sales and mean Japan sales.')\n",
        "else:\n",
        "  print('Reject the null hypothesis. There is a significant difference between mean total sales and mean Japan sales.')"
      ],
      "metadata": {
        "colab": {
          "base_uri": "https://localhost:8080/"
        },
        "id": "j-IiuPfnvA0v",
        "outputId": "5a4b1733-006e-472a-ebe8-669f2aa78fcb"
      },
      "execution_count": null,
      "outputs": [
        {
          "output_type": "stream",
          "name": "stdout",
          "text": [
            "Reject the null hypothesis. There is a significant difference between mean total sales and mean Japan sales.\n"
          ]
        }
      ]
    },
    {
      "cell_type": "markdown",
      "source": [
        "Comparing total sales and Europe/Africa sales"
      ],
      "metadata": {
        "id": "oCvSsNQrvbEl"
      }
    },
    {
      "cell_type": "markdown",
      "source": [
        " - Null Hypothesis: There is no significant difference between mean total sales and mean Europe/Africa sales.\n",
        " - Alternative Hypothesis: There is a significant difference between mean total sales and mean Europe/Africa sales."
      ],
      "metadata": {
        "id": "UPWVDPn0vgsP"
      }
    },
    {
      "cell_type": "code",
      "source": [
        "t_stat,p_val = stats.ttest_rel(df['total_sales'],df['pal_sales']) # calculating the test statistic and p-value\n",
        "# comparing p-value andsignificance level\n",
        "if p_val > alpha:\n",
        "  print('Fail to reject null hypothesis. There is no significant difference between mean total sales and mean Europe/Africa sales.')\n",
        "else:\n",
        "  print('Reject the null hypothesis. There is a significant difference between mean total sales and mean Europe/Africa sales.')"
      ],
      "metadata": {
        "colab": {
          "base_uri": "https://localhost:8080/"
        },
        "id": "fyJTzVC3vW5N",
        "outputId": "04180355-b241-44c6-b990-a70944e90aa2"
      },
      "execution_count": null,
      "outputs": [
        {
          "output_type": "stream",
          "name": "stdout",
          "text": [
            "Reject the null hypothesis. There is a significant difference between mean total sales and mean Europe/Africa sales.\n"
          ]
        }
      ]
    },
    {
      "cell_type": "markdown",
      "source": [
        "**Chi-square test for independence**"
      ],
      "metadata": {
        "id": "S1QnkgxTwbvS"
      }
    },
    {
      "cell_type": "markdown",
      "source": [
        "Testing independence between genre and publisher"
      ],
      "metadata": {
        "id": "9tZjgld2wgv4"
      }
    },
    {
      "cell_type": "markdown",
      "source": [
        "- Null Hypothesis: There is no significant association between genre and publisher.\n",
        "- Alternative Hypothesis: There is a significant association between genre and publisher."
      ],
      "metadata": {
        "id": "WxnFekBrzdJa"
      }
    },
    {
      "cell_type": "code",
      "source": [
        "#generating contingency table\n",
        "genre_publisher_cont_table = pd.crosstab(df['genre'],df['publisher'])\n",
        "genre_publisher_cont_table"
      ],
      "metadata": {
        "colab": {
          "base_uri": "https://localhost:8080/",
          "height": 861
        },
        "id": "Ma9fTe8syKqK",
        "outputId": "134d05ee-6ed4-4051-fa0e-67536eef26a7"
      },
      "execution_count": null,
      "outputs": [
        {
          "output_type": "execute_result",
          "data": {
            "text/plain": [
              "publisher         100 Gates  10TACLE Studios  10tons  10tons Ltd  \\\n",
              "genre                                                              \n",
              "Action                    1                1       4           2   \n",
              "Action-Adventure          0                0       0           0   \n",
              "Adventure                 0                0       0           0   \n",
              "Board Game                0                0       0           0   \n",
              "Education                 0                0       0           0   \n",
              "Fighting                  0                0       0           0   \n",
              "MMO                       0                0       0           0   \n",
              "Misc                      0                1       0          18   \n",
              "Music                     0                0       0           0   \n",
              "Party                     0                0       0           0   \n",
              "Platform                  0                0       0           0   \n",
              "Puzzle                    1                1       3          10   \n",
              "Racing                    0                2       0           0   \n",
              "Role-Playing              0                0       0           0   \n",
              "Sandbox                   0                0       0           0   \n",
              "Shooter                   0                0       0           2   \n",
              "Simulation                0                0       0           0   \n",
              "Sports                    0                1       0           0   \n",
              "Strategy                  0                0       0           0   \n",
              "Visual Novel              0                0       0           0   \n",
              "\n",
              "publisher         11 bit studios  1337 Game Design  13cm  14 Degrees East  \\\n",
              "genre                                                                       \n",
              "Action                         6                 0     0                0   \n",
              "Action-Adventure               0                 0     0                0   \n",
              "Adventure                      4                 0     3                0   \n",
              "Board Game                     0                 0     0                0   \n",
              "Education                      0                 0     0                0   \n",
              "Fighting                       0                 0     0                0   \n",
              "MMO                            0                 0     0                0   \n",
              "Misc                          22                 1     0                0   \n",
              "Music                          0                 0     0                0   \n",
              "Party                          0                 0     0                0   \n",
              "Platform                       0                 0     0                0   \n",
              "Puzzle                         0                 0     0                0   \n",
              "Racing                         0                 0     0                0   \n",
              "Role-Playing                   7                 0     0                0   \n",
              "Sandbox                        0                 0     0                0   \n",
              "Shooter                        0                 0     0                0   \n",
              "Simulation                     0                 0     0                0   \n",
              "Sports                         0                 0     0                0   \n",
              "Strategy                       5                 0     0                1   \n",
              "Visual Novel                   0                 0     0                0   \n",
              "\n",
              "publisher         17-Bit  1C Company  ...  responDESIGN, Inc.  softhouse-seal  \\\n",
              "genre                                 ...                                       \n",
              "Action                 3           2  ...                   0               0   \n",
              "Action-Adventure       0           4  ...                   0               0   \n",
              "Adventure              0           0  ...                   0               0   \n",
              "Board Game             0           0  ...                   0               0   \n",
              "Education              0           0  ...                   0               0   \n",
              "Fighting               0           0  ...                   0               0   \n",
              "MMO                    0           0  ...                   0               0   \n",
              "Misc                   0          10  ...                   1               1   \n",
              "Music                  0           0  ...                   0               0   \n",
              "Party                  0           0  ...                   0               0   \n",
              "Platform               0           5  ...                   0               0   \n",
              "Puzzle                 0           0  ...                   0               0   \n",
              "Racing                 0           7  ...                   0               0   \n",
              "Role-Playing           0           7  ...                   0               0   \n",
              "Sandbox                0           0  ...                   0               0   \n",
              "Shooter                0           2  ...                   0               0   \n",
              "Simulation             0           1  ...                   0               0   \n",
              "Sports                 0           0  ...                   0               0   \n",
              "Strategy               3           6  ...                   0               0   \n",
              "Visual Novel           0           0  ...                   0               0   \n",
              "\n",
              "publisher         team BitClub  thechineseroom  thesetales  tono / Ctrl+k  \\\n",
              "genre                                                                       \n",
              "Action                       0               0           0              0   \n",
              "Action-Adventure             0               0           0              0   \n",
              "Adventure                    0               0           0              0   \n",
              "Board Game                   0               0           0              0   \n",
              "Education                    0               0           0              0   \n",
              "Fighting                     0               0           0              0   \n",
              "MMO                          0               0           0              0   \n",
              "Misc                         0               1           3              1   \n",
              "Music                        0               0           0              0   \n",
              "Party                        0               0           0              0   \n",
              "Platform                     1               0           0              0   \n",
              "Puzzle                       0               0           0              0   \n",
              "Racing                       0               0           0              0   \n",
              "Role-Playing                 0               0           0              0   \n",
              "Sandbox                      0               0           0              0   \n",
              "Shooter                      0               0           0              0   \n",
              "Simulation                   0               0           0              0   \n",
              "Sports                       0               0           0              0   \n",
              "Strategy                     0               0           0              0   \n",
              "Visual Novel                 0               0           0              0   \n",
              "\n",
              "publisher         tri-Ace  uClick  wooga  yeo  \n",
              "genre                                          \n",
              "Action                  0       0      0    0  \n",
              "Action-Adventure        0       0      0    1  \n",
              "Adventure               0       0      0    0  \n",
              "Board Game              0       0      0    0  \n",
              "Education               0       0      0    0  \n",
              "Fighting                0       0      0    0  \n",
              "MMO                     0       0      0    0  \n",
              "Misc                    0       0      4    0  \n",
              "Music                   0       0      0    0  \n",
              "Party                   0       0      0    0  \n",
              "Platform                0       0      0    0  \n",
              "Puzzle                  0       1      0    0  \n",
              "Racing                  0       0      0    0  \n",
              "Role-Playing            1       0      0    0  \n",
              "Sandbox                 0       0      0    0  \n",
              "Shooter                 0       0      0    0  \n",
              "Simulation              0       0      0    0  \n",
              "Sports                  0       0      0    0  \n",
              "Strategy                0       1      0    0  \n",
              "Visual Novel            0       0      0    0  \n",
              "\n",
              "[20 rows x 3383 columns]"
            ],
            "text/html": [
              "\n",
              "  <div id=\"df-91e1888e-c269-4321-90b4-5d37ea779711\" class=\"colab-df-container\">\n",
              "    <div>\n",
              "<style scoped>\n",
              "    .dataframe tbody tr th:only-of-type {\n",
              "        vertical-align: middle;\n",
              "    }\n",
              "\n",
              "    .dataframe tbody tr th {\n",
              "        vertical-align: top;\n",
              "    }\n",
              "\n",
              "    .dataframe thead th {\n",
              "        text-align: right;\n",
              "    }\n",
              "</style>\n",
              "<table border=\"1\" class=\"dataframe\">\n",
              "  <thead>\n",
              "    <tr style=\"text-align: right;\">\n",
              "      <th>publisher</th>\n",
              "      <th>100 Gates</th>\n",
              "      <th>10TACLE Studios</th>\n",
              "      <th>10tons</th>\n",
              "      <th>10tons Ltd</th>\n",
              "      <th>11 bit studios</th>\n",
              "      <th>1337 Game Design</th>\n",
              "      <th>13cm</th>\n",
              "      <th>14 Degrees East</th>\n",
              "      <th>17-Bit</th>\n",
              "      <th>1C Company</th>\n",
              "      <th>...</th>\n",
              "      <th>responDESIGN, Inc.</th>\n",
              "      <th>softhouse-seal</th>\n",
              "      <th>team BitClub</th>\n",
              "      <th>thechineseroom</th>\n",
              "      <th>thesetales</th>\n",
              "      <th>tono / Ctrl+k</th>\n",
              "      <th>tri-Ace</th>\n",
              "      <th>uClick</th>\n",
              "      <th>wooga</th>\n",
              "      <th>yeo</th>\n",
              "    </tr>\n",
              "    <tr>\n",
              "      <th>genre</th>\n",
              "      <th></th>\n",
              "      <th></th>\n",
              "      <th></th>\n",
              "      <th></th>\n",
              "      <th></th>\n",
              "      <th></th>\n",
              "      <th></th>\n",
              "      <th></th>\n",
              "      <th></th>\n",
              "      <th></th>\n",
              "      <th></th>\n",
              "      <th></th>\n",
              "      <th></th>\n",
              "      <th></th>\n",
              "      <th></th>\n",
              "      <th></th>\n",
              "      <th></th>\n",
              "      <th></th>\n",
              "      <th></th>\n",
              "      <th></th>\n",
              "      <th></th>\n",
              "    </tr>\n",
              "  </thead>\n",
              "  <tbody>\n",
              "    <tr>\n",
              "      <th>Action</th>\n",
              "      <td>1</td>\n",
              "      <td>1</td>\n",
              "      <td>4</td>\n",
              "      <td>2</td>\n",
              "      <td>6</td>\n",
              "      <td>0</td>\n",
              "      <td>0</td>\n",
              "      <td>0</td>\n",
              "      <td>3</td>\n",
              "      <td>2</td>\n",
              "      <td>...</td>\n",
              "      <td>0</td>\n",
              "      <td>0</td>\n",
              "      <td>0</td>\n",
              "      <td>0</td>\n",
              "      <td>0</td>\n",
              "      <td>0</td>\n",
              "      <td>0</td>\n",
              "      <td>0</td>\n",
              "      <td>0</td>\n",
              "      <td>0</td>\n",
              "    </tr>\n",
              "    <tr>\n",
              "      <th>Action-Adventure</th>\n",
              "      <td>0</td>\n",
              "      <td>0</td>\n",
              "      <td>0</td>\n",
              "      <td>0</td>\n",
              "      <td>0</td>\n",
              "      <td>0</td>\n",
              "      <td>0</td>\n",
              "      <td>0</td>\n",
              "      <td>0</td>\n",
              "      <td>4</td>\n",
              "      <td>...</td>\n",
              "      <td>0</td>\n",
              "      <td>0</td>\n",
              "      <td>0</td>\n",
              "      <td>0</td>\n",
              "      <td>0</td>\n",
              "      <td>0</td>\n",
              "      <td>0</td>\n",
              "      <td>0</td>\n",
              "      <td>0</td>\n",
              "      <td>1</td>\n",
              "    </tr>\n",
              "    <tr>\n",
              "      <th>Adventure</th>\n",
              "      <td>0</td>\n",
              "      <td>0</td>\n",
              "      <td>0</td>\n",
              "      <td>0</td>\n",
              "      <td>4</td>\n",
              "      <td>0</td>\n",
              "      <td>3</td>\n",
              "      <td>0</td>\n",
              "      <td>0</td>\n",
              "      <td>0</td>\n",
              "      <td>...</td>\n",
              "      <td>0</td>\n",
              "      <td>0</td>\n",
              "      <td>0</td>\n",
              "      <td>0</td>\n",
              "      <td>0</td>\n",
              "      <td>0</td>\n",
              "      <td>0</td>\n",
              "      <td>0</td>\n",
              "      <td>0</td>\n",
              "      <td>0</td>\n",
              "    </tr>\n",
              "    <tr>\n",
              "      <th>Board Game</th>\n",
              "      <td>0</td>\n",
              "      <td>0</td>\n",
              "      <td>0</td>\n",
              "      <td>0</td>\n",
              "      <td>0</td>\n",
              "      <td>0</td>\n",
              "      <td>0</td>\n",
              "      <td>0</td>\n",
              "      <td>0</td>\n",
              "      <td>0</td>\n",
              "      <td>...</td>\n",
              "      <td>0</td>\n",
              "      <td>0</td>\n",
              "      <td>0</td>\n",
              "      <td>0</td>\n",
              "      <td>0</td>\n",
              "      <td>0</td>\n",
              "      <td>0</td>\n",
              "      <td>0</td>\n",
              "      <td>0</td>\n",
              "      <td>0</td>\n",
              "    </tr>\n",
              "    <tr>\n",
              "      <th>Education</th>\n",
              "      <td>0</td>\n",
              "      <td>0</td>\n",
              "      <td>0</td>\n",
              "      <td>0</td>\n",
              "      <td>0</td>\n",
              "      <td>0</td>\n",
              "      <td>0</td>\n",
              "      <td>0</td>\n",
              "      <td>0</td>\n",
              "      <td>0</td>\n",
              "      <td>...</td>\n",
              "      <td>0</td>\n",
              "      <td>0</td>\n",
              "      <td>0</td>\n",
              "      <td>0</td>\n",
              "      <td>0</td>\n",
              "      <td>0</td>\n",
              "      <td>0</td>\n",
              "      <td>0</td>\n",
              "      <td>0</td>\n",
              "      <td>0</td>\n",
              "    </tr>\n",
              "    <tr>\n",
              "      <th>Fighting</th>\n",
              "      <td>0</td>\n",
              "      <td>0</td>\n",
              "      <td>0</td>\n",
              "      <td>0</td>\n",
              "      <td>0</td>\n",
              "      <td>0</td>\n",
              "      <td>0</td>\n",
              "      <td>0</td>\n",
              "      <td>0</td>\n",
              "      <td>0</td>\n",
              "      <td>...</td>\n",
              "      <td>0</td>\n",
              "      <td>0</td>\n",
              "      <td>0</td>\n",
              "      <td>0</td>\n",
              "      <td>0</td>\n",
              "      <td>0</td>\n",
              "      <td>0</td>\n",
              "      <td>0</td>\n",
              "      <td>0</td>\n",
              "      <td>0</td>\n",
              "    </tr>\n",
              "    <tr>\n",
              "      <th>MMO</th>\n",
              "      <td>0</td>\n",
              "      <td>0</td>\n",
              "      <td>0</td>\n",
              "      <td>0</td>\n",
              "      <td>0</td>\n",
              "      <td>0</td>\n",
              "      <td>0</td>\n",
              "      <td>0</td>\n",
              "      <td>0</td>\n",
              "      <td>0</td>\n",
              "      <td>...</td>\n",
              "      <td>0</td>\n",
              "      <td>0</td>\n",
              "      <td>0</td>\n",
              "      <td>0</td>\n",
              "      <td>0</td>\n",
              "      <td>0</td>\n",
              "      <td>0</td>\n",
              "      <td>0</td>\n",
              "      <td>0</td>\n",
              "      <td>0</td>\n",
              "    </tr>\n",
              "    <tr>\n",
              "      <th>Misc</th>\n",
              "      <td>0</td>\n",
              "      <td>1</td>\n",
              "      <td>0</td>\n",
              "      <td>18</td>\n",
              "      <td>22</td>\n",
              "      <td>1</td>\n",
              "      <td>0</td>\n",
              "      <td>0</td>\n",
              "      <td>0</td>\n",
              "      <td>10</td>\n",
              "      <td>...</td>\n",
              "      <td>1</td>\n",
              "      <td>1</td>\n",
              "      <td>0</td>\n",
              "      <td>1</td>\n",
              "      <td>3</td>\n",
              "      <td>1</td>\n",
              "      <td>0</td>\n",
              "      <td>0</td>\n",
              "      <td>4</td>\n",
              "      <td>0</td>\n",
              "    </tr>\n",
              "    <tr>\n",
              "      <th>Music</th>\n",
              "      <td>0</td>\n",
              "      <td>0</td>\n",
              "      <td>0</td>\n",
              "      <td>0</td>\n",
              "      <td>0</td>\n",
              "      <td>0</td>\n",
              "      <td>0</td>\n",
              "      <td>0</td>\n",
              "      <td>0</td>\n",
              "      <td>0</td>\n",
              "      <td>...</td>\n",
              "      <td>0</td>\n",
              "      <td>0</td>\n",
              "      <td>0</td>\n",
              "      <td>0</td>\n",
              "      <td>0</td>\n",
              "      <td>0</td>\n",
              "      <td>0</td>\n",
              "      <td>0</td>\n",
              "      <td>0</td>\n",
              "      <td>0</td>\n",
              "    </tr>\n",
              "    <tr>\n",
              "      <th>Party</th>\n",
              "      <td>0</td>\n",
              "      <td>0</td>\n",
              "      <td>0</td>\n",
              "      <td>0</td>\n",
              "      <td>0</td>\n",
              "      <td>0</td>\n",
              "      <td>0</td>\n",
              "      <td>0</td>\n",
              "      <td>0</td>\n",
              "      <td>0</td>\n",
              "      <td>...</td>\n",
              "      <td>0</td>\n",
              "      <td>0</td>\n",
              "      <td>0</td>\n",
              "      <td>0</td>\n",
              "      <td>0</td>\n",
              "      <td>0</td>\n",
              "      <td>0</td>\n",
              "      <td>0</td>\n",
              "      <td>0</td>\n",
              "      <td>0</td>\n",
              "    </tr>\n",
              "    <tr>\n",
              "      <th>Platform</th>\n",
              "      <td>0</td>\n",
              "      <td>0</td>\n",
              "      <td>0</td>\n",
              "      <td>0</td>\n",
              "      <td>0</td>\n",
              "      <td>0</td>\n",
              "      <td>0</td>\n",
              "      <td>0</td>\n",
              "      <td>0</td>\n",
              "      <td>5</td>\n",
              "      <td>...</td>\n",
              "      <td>0</td>\n",
              "      <td>0</td>\n",
              "      <td>1</td>\n",
              "      <td>0</td>\n",
              "      <td>0</td>\n",
              "      <td>0</td>\n",
              "      <td>0</td>\n",
              "      <td>0</td>\n",
              "      <td>0</td>\n",
              "      <td>0</td>\n",
              "    </tr>\n",
              "    <tr>\n",
              "      <th>Puzzle</th>\n",
              "      <td>1</td>\n",
              "      <td>1</td>\n",
              "      <td>3</td>\n",
              "      <td>10</td>\n",
              "      <td>0</td>\n",
              "      <td>0</td>\n",
              "      <td>0</td>\n",
              "      <td>0</td>\n",
              "      <td>0</td>\n",
              "      <td>0</td>\n",
              "      <td>...</td>\n",
              "      <td>0</td>\n",
              "      <td>0</td>\n",
              "      <td>0</td>\n",
              "      <td>0</td>\n",
              "      <td>0</td>\n",
              "      <td>0</td>\n",
              "      <td>0</td>\n",
              "      <td>1</td>\n",
              "      <td>0</td>\n",
              "      <td>0</td>\n",
              "    </tr>\n",
              "    <tr>\n",
              "      <th>Racing</th>\n",
              "      <td>0</td>\n",
              "      <td>2</td>\n",
              "      <td>0</td>\n",
              "      <td>0</td>\n",
              "      <td>0</td>\n",
              "      <td>0</td>\n",
              "      <td>0</td>\n",
              "      <td>0</td>\n",
              "      <td>0</td>\n",
              "      <td>7</td>\n",
              "      <td>...</td>\n",
              "      <td>0</td>\n",
              "      <td>0</td>\n",
              "      <td>0</td>\n",
              "      <td>0</td>\n",
              "      <td>0</td>\n",
              "      <td>0</td>\n",
              "      <td>0</td>\n",
              "      <td>0</td>\n",
              "      <td>0</td>\n",
              "      <td>0</td>\n",
              "    </tr>\n",
              "    <tr>\n",
              "      <th>Role-Playing</th>\n",
              "      <td>0</td>\n",
              "      <td>0</td>\n",
              "      <td>0</td>\n",
              "      <td>0</td>\n",
              "      <td>7</td>\n",
              "      <td>0</td>\n",
              "      <td>0</td>\n",
              "      <td>0</td>\n",
              "      <td>0</td>\n",
              "      <td>7</td>\n",
              "      <td>...</td>\n",
              "      <td>0</td>\n",
              "      <td>0</td>\n",
              "      <td>0</td>\n",
              "      <td>0</td>\n",
              "      <td>0</td>\n",
              "      <td>0</td>\n",
              "      <td>1</td>\n",
              "      <td>0</td>\n",
              "      <td>0</td>\n",
              "      <td>0</td>\n",
              "    </tr>\n",
              "    <tr>\n",
              "      <th>Sandbox</th>\n",
              "      <td>0</td>\n",
              "      <td>0</td>\n",
              "      <td>0</td>\n",
              "      <td>0</td>\n",
              "      <td>0</td>\n",
              "      <td>0</td>\n",
              "      <td>0</td>\n",
              "      <td>0</td>\n",
              "      <td>0</td>\n",
              "      <td>0</td>\n",
              "      <td>...</td>\n",
              "      <td>0</td>\n",
              "      <td>0</td>\n",
              "      <td>0</td>\n",
              "      <td>0</td>\n",
              "      <td>0</td>\n",
              "      <td>0</td>\n",
              "      <td>0</td>\n",
              "      <td>0</td>\n",
              "      <td>0</td>\n",
              "      <td>0</td>\n",
              "    </tr>\n",
              "    <tr>\n",
              "      <th>Shooter</th>\n",
              "      <td>0</td>\n",
              "      <td>0</td>\n",
              "      <td>0</td>\n",
              "      <td>2</td>\n",
              "      <td>0</td>\n",
              "      <td>0</td>\n",
              "      <td>0</td>\n",
              "      <td>0</td>\n",
              "      <td>0</td>\n",
              "      <td>2</td>\n",
              "      <td>...</td>\n",
              "      <td>0</td>\n",
              "      <td>0</td>\n",
              "      <td>0</td>\n",
              "      <td>0</td>\n",
              "      <td>0</td>\n",
              "      <td>0</td>\n",
              "      <td>0</td>\n",
              "      <td>0</td>\n",
              "      <td>0</td>\n",
              "      <td>0</td>\n",
              "    </tr>\n",
              "    <tr>\n",
              "      <th>Simulation</th>\n",
              "      <td>0</td>\n",
              "      <td>0</td>\n",
              "      <td>0</td>\n",
              "      <td>0</td>\n",
              "      <td>0</td>\n",
              "      <td>0</td>\n",
              "      <td>0</td>\n",
              "      <td>0</td>\n",
              "      <td>0</td>\n",
              "      <td>1</td>\n",
              "      <td>...</td>\n",
              "      <td>0</td>\n",
              "      <td>0</td>\n",
              "      <td>0</td>\n",
              "      <td>0</td>\n",
              "      <td>0</td>\n",
              "      <td>0</td>\n",
              "      <td>0</td>\n",
              "      <td>0</td>\n",
              "      <td>0</td>\n",
              "      <td>0</td>\n",
              "    </tr>\n",
              "    <tr>\n",
              "      <th>Sports</th>\n",
              "      <td>0</td>\n",
              "      <td>1</td>\n",
              "      <td>0</td>\n",
              "      <td>0</td>\n",
              "      <td>0</td>\n",
              "      <td>0</td>\n",
              "      <td>0</td>\n",
              "      <td>0</td>\n",
              "      <td>0</td>\n",
              "      <td>0</td>\n",
              "      <td>...</td>\n",
              "      <td>0</td>\n",
              "      <td>0</td>\n",
              "      <td>0</td>\n",
              "      <td>0</td>\n",
              "      <td>0</td>\n",
              "      <td>0</td>\n",
              "      <td>0</td>\n",
              "      <td>0</td>\n",
              "      <td>0</td>\n",
              "      <td>0</td>\n",
              "    </tr>\n",
              "    <tr>\n",
              "      <th>Strategy</th>\n",
              "      <td>0</td>\n",
              "      <td>0</td>\n",
              "      <td>0</td>\n",
              "      <td>0</td>\n",
              "      <td>5</td>\n",
              "      <td>0</td>\n",
              "      <td>0</td>\n",
              "      <td>1</td>\n",
              "      <td>3</td>\n",
              "      <td>6</td>\n",
              "      <td>...</td>\n",
              "      <td>0</td>\n",
              "      <td>0</td>\n",
              "      <td>0</td>\n",
              "      <td>0</td>\n",
              "      <td>0</td>\n",
              "      <td>0</td>\n",
              "      <td>0</td>\n",
              "      <td>1</td>\n",
              "      <td>0</td>\n",
              "      <td>0</td>\n",
              "    </tr>\n",
              "    <tr>\n",
              "      <th>Visual Novel</th>\n",
              "      <td>0</td>\n",
              "      <td>0</td>\n",
              "      <td>0</td>\n",
              "      <td>0</td>\n",
              "      <td>0</td>\n",
              "      <td>0</td>\n",
              "      <td>0</td>\n",
              "      <td>0</td>\n",
              "      <td>0</td>\n",
              "      <td>0</td>\n",
              "      <td>...</td>\n",
              "      <td>0</td>\n",
              "      <td>0</td>\n",
              "      <td>0</td>\n",
              "      <td>0</td>\n",
              "      <td>0</td>\n",
              "      <td>0</td>\n",
              "      <td>0</td>\n",
              "      <td>0</td>\n",
              "      <td>0</td>\n",
              "      <td>0</td>\n",
              "    </tr>\n",
              "  </tbody>\n",
              "</table>\n",
              "<p>20 rows × 3383 columns</p>\n",
              "</div>\n",
              "    <div class=\"colab-df-buttons\">\n",
              "\n",
              "  <div class=\"colab-df-container\">\n",
              "    <button class=\"colab-df-convert\" onclick=\"convertToInteractive('df-91e1888e-c269-4321-90b4-5d37ea779711')\"\n",
              "            title=\"Convert this dataframe to an interactive table.\"\n",
              "            style=\"display:none;\">\n",
              "\n",
              "  <svg xmlns=\"http://www.w3.org/2000/svg\" height=\"24px\" viewBox=\"0 -960 960 960\">\n",
              "    <path d=\"M120-120v-720h720v720H120Zm60-500h600v-160H180v160Zm220 220h160v-160H400v160Zm0 220h160v-160H400v160ZM180-400h160v-160H180v160Zm440 0h160v-160H620v160ZM180-180h160v-160H180v160Zm440 0h160v-160H620v160Z\"/>\n",
              "  </svg>\n",
              "    </button>\n",
              "\n",
              "  <style>\n",
              "    .colab-df-container {\n",
              "      display:flex;\n",
              "      gap: 12px;\n",
              "    }\n",
              "\n",
              "    .colab-df-convert {\n",
              "      background-color: #E8F0FE;\n",
              "      border: none;\n",
              "      border-radius: 50%;\n",
              "      cursor: pointer;\n",
              "      display: none;\n",
              "      fill: #1967D2;\n",
              "      height: 32px;\n",
              "      padding: 0 0 0 0;\n",
              "      width: 32px;\n",
              "    }\n",
              "\n",
              "    .colab-df-convert:hover {\n",
              "      background-color: #E2EBFA;\n",
              "      box-shadow: 0px 1px 2px rgba(60, 64, 67, 0.3), 0px 1px 3px 1px rgba(60, 64, 67, 0.15);\n",
              "      fill: #174EA6;\n",
              "    }\n",
              "\n",
              "    .colab-df-buttons div {\n",
              "      margin-bottom: 4px;\n",
              "    }\n",
              "\n",
              "    [theme=dark] .colab-df-convert {\n",
              "      background-color: #3B4455;\n",
              "      fill: #D2E3FC;\n",
              "    }\n",
              "\n",
              "    [theme=dark] .colab-df-convert:hover {\n",
              "      background-color: #434B5C;\n",
              "      box-shadow: 0px 1px 3px 1px rgba(0, 0, 0, 0.15);\n",
              "      filter: drop-shadow(0px 1px 2px rgba(0, 0, 0, 0.3));\n",
              "      fill: #FFFFFF;\n",
              "    }\n",
              "  </style>\n",
              "\n",
              "    <script>\n",
              "      const buttonEl =\n",
              "        document.querySelector('#df-91e1888e-c269-4321-90b4-5d37ea779711 button.colab-df-convert');\n",
              "      buttonEl.style.display =\n",
              "        google.colab.kernel.accessAllowed ? 'block' : 'none';\n",
              "\n",
              "      async function convertToInteractive(key) {\n",
              "        const element = document.querySelector('#df-91e1888e-c269-4321-90b4-5d37ea779711');\n",
              "        const dataTable =\n",
              "          await google.colab.kernel.invokeFunction('convertToInteractive',\n",
              "                                                    [key], {});\n",
              "        if (!dataTable) return;\n",
              "\n",
              "        const docLinkHtml = 'Like what you see? Visit the ' +\n",
              "          '<a target=\"_blank\" href=https://colab.research.google.com/notebooks/data_table.ipynb>data table notebook</a>'\n",
              "          + ' to learn more about interactive tables.';\n",
              "        element.innerHTML = '';\n",
              "        dataTable['output_type'] = 'display_data';\n",
              "        await google.colab.output.renderOutput(dataTable, element);\n",
              "        const docLink = document.createElement('div');\n",
              "        docLink.innerHTML = docLinkHtml;\n",
              "        element.appendChild(docLink);\n",
              "      }\n",
              "    </script>\n",
              "  </div>\n",
              "\n",
              "\n",
              "<div id=\"df-3ee49589-c16e-4dfd-ad6c-f21293af29a7\">\n",
              "  <button class=\"colab-df-quickchart\" onclick=\"quickchart('df-3ee49589-c16e-4dfd-ad6c-f21293af29a7')\"\n",
              "            title=\"Suggest charts\"\n",
              "            style=\"display:none;\">\n",
              "\n",
              "<svg xmlns=\"http://www.w3.org/2000/svg\" height=\"24px\"viewBox=\"0 0 24 24\"\n",
              "     width=\"24px\">\n",
              "    <g>\n",
              "        <path d=\"M19 3H5c-1.1 0-2 .9-2 2v14c0 1.1.9 2 2 2h14c1.1 0 2-.9 2-2V5c0-1.1-.9-2-2-2zM9 17H7v-7h2v7zm4 0h-2V7h2v10zm4 0h-2v-4h2v4z\"/>\n",
              "    </g>\n",
              "</svg>\n",
              "  </button>\n",
              "\n",
              "<style>\n",
              "  .colab-df-quickchart {\n",
              "      --bg-color: #E8F0FE;\n",
              "      --fill-color: #1967D2;\n",
              "      --hover-bg-color: #E2EBFA;\n",
              "      --hover-fill-color: #174EA6;\n",
              "      --disabled-fill-color: #AAA;\n",
              "      --disabled-bg-color: #DDD;\n",
              "  }\n",
              "\n",
              "  [theme=dark] .colab-df-quickchart {\n",
              "      --bg-color: #3B4455;\n",
              "      --fill-color: #D2E3FC;\n",
              "      --hover-bg-color: #434B5C;\n",
              "      --hover-fill-color: #FFFFFF;\n",
              "      --disabled-bg-color: #3B4455;\n",
              "      --disabled-fill-color: #666;\n",
              "  }\n",
              "\n",
              "  .colab-df-quickchart {\n",
              "    background-color: var(--bg-color);\n",
              "    border: none;\n",
              "    border-radius: 50%;\n",
              "    cursor: pointer;\n",
              "    display: none;\n",
              "    fill: var(--fill-color);\n",
              "    height: 32px;\n",
              "    padding: 0;\n",
              "    width: 32px;\n",
              "  }\n",
              "\n",
              "  .colab-df-quickchart:hover {\n",
              "    background-color: var(--hover-bg-color);\n",
              "    box-shadow: 0 1px 2px rgba(60, 64, 67, 0.3), 0 1px 3px 1px rgba(60, 64, 67, 0.15);\n",
              "    fill: var(--button-hover-fill-color);\n",
              "  }\n",
              "\n",
              "  .colab-df-quickchart-complete:disabled,\n",
              "  .colab-df-quickchart-complete:disabled:hover {\n",
              "    background-color: var(--disabled-bg-color);\n",
              "    fill: var(--disabled-fill-color);\n",
              "    box-shadow: none;\n",
              "  }\n",
              "\n",
              "  .colab-df-spinner {\n",
              "    border: 2px solid var(--fill-color);\n",
              "    border-color: transparent;\n",
              "    border-bottom-color: var(--fill-color);\n",
              "    animation:\n",
              "      spin 1s steps(1) infinite;\n",
              "  }\n",
              "\n",
              "  @keyframes spin {\n",
              "    0% {\n",
              "      border-color: transparent;\n",
              "      border-bottom-color: var(--fill-color);\n",
              "      border-left-color: var(--fill-color);\n",
              "    }\n",
              "    20% {\n",
              "      border-color: transparent;\n",
              "      border-left-color: var(--fill-color);\n",
              "      border-top-color: var(--fill-color);\n",
              "    }\n",
              "    30% {\n",
              "      border-color: transparent;\n",
              "      border-left-color: var(--fill-color);\n",
              "      border-top-color: var(--fill-color);\n",
              "      border-right-color: var(--fill-color);\n",
              "    }\n",
              "    40% {\n",
              "      border-color: transparent;\n",
              "      border-right-color: var(--fill-color);\n",
              "      border-top-color: var(--fill-color);\n",
              "    }\n",
              "    60% {\n",
              "      border-color: transparent;\n",
              "      border-right-color: var(--fill-color);\n",
              "    }\n",
              "    80% {\n",
              "      border-color: transparent;\n",
              "      border-right-color: var(--fill-color);\n",
              "      border-bottom-color: var(--fill-color);\n",
              "    }\n",
              "    90% {\n",
              "      border-color: transparent;\n",
              "      border-bottom-color: var(--fill-color);\n",
              "    }\n",
              "  }\n",
              "</style>\n",
              "\n",
              "  <script>\n",
              "    async function quickchart(key) {\n",
              "      const quickchartButtonEl =\n",
              "        document.querySelector('#' + key + ' button');\n",
              "      quickchartButtonEl.disabled = true;  // To prevent multiple clicks.\n",
              "      quickchartButtonEl.classList.add('colab-df-spinner');\n",
              "      try {\n",
              "        const charts = await google.colab.kernel.invokeFunction(\n",
              "            'suggestCharts', [key], {});\n",
              "      } catch (error) {\n",
              "        console.error('Error during call to suggestCharts:', error);\n",
              "      }\n",
              "      quickchartButtonEl.classList.remove('colab-df-spinner');\n",
              "      quickchartButtonEl.classList.add('colab-df-quickchart-complete');\n",
              "    }\n",
              "    (() => {\n",
              "      let quickchartButtonEl =\n",
              "        document.querySelector('#df-3ee49589-c16e-4dfd-ad6c-f21293af29a7 button');\n",
              "      quickchartButtonEl.style.display =\n",
              "        google.colab.kernel.accessAllowed ? 'block' : 'none';\n",
              "    })();\n",
              "  </script>\n",
              "</div>\n",
              "\n",
              "  <div id=\"id_8440802f-38e3-4b2e-a691-c9ed43677af4\">\n",
              "    <style>\n",
              "      .colab-df-generate {\n",
              "        background-color: #E8F0FE;\n",
              "        border: none;\n",
              "        border-radius: 50%;\n",
              "        cursor: pointer;\n",
              "        display: none;\n",
              "        fill: #1967D2;\n",
              "        height: 32px;\n",
              "        padding: 0 0 0 0;\n",
              "        width: 32px;\n",
              "      }\n",
              "\n",
              "      .colab-df-generate:hover {\n",
              "        background-color: #E2EBFA;\n",
              "        box-shadow: 0px 1px 2px rgba(60, 64, 67, 0.3), 0px 1px 3px 1px rgba(60, 64, 67, 0.15);\n",
              "        fill: #174EA6;\n",
              "      }\n",
              "\n",
              "      [theme=dark] .colab-df-generate {\n",
              "        background-color: #3B4455;\n",
              "        fill: #D2E3FC;\n",
              "      }\n",
              "\n",
              "      [theme=dark] .colab-df-generate:hover {\n",
              "        background-color: #434B5C;\n",
              "        box-shadow: 0px 1px 3px 1px rgba(0, 0, 0, 0.15);\n",
              "        filter: drop-shadow(0px 1px 2px rgba(0, 0, 0, 0.3));\n",
              "        fill: #FFFFFF;\n",
              "      }\n",
              "    </style>\n",
              "    <button class=\"colab-df-generate\" onclick=\"generateWithVariable('genre_publisher_cont_table')\"\n",
              "            title=\"Generate code using this dataframe.\"\n",
              "            style=\"display:none;\">\n",
              "\n",
              "  <svg xmlns=\"http://www.w3.org/2000/svg\" height=\"24px\"viewBox=\"0 0 24 24\"\n",
              "       width=\"24px\">\n",
              "    <path d=\"M7,19H8.4L18.45,9,17,7.55,7,17.6ZM5,21V16.75L18.45,3.32a2,2,0,0,1,2.83,0l1.4,1.43a1.91,1.91,0,0,1,.58,1.4,1.91,1.91,0,0,1-.58,1.4L9.25,21ZM18.45,9,17,7.55Zm-12,3A5.31,5.31,0,0,0,4.9,8.1,5.31,5.31,0,0,0,1,6.5,5.31,5.31,0,0,0,4.9,4.9,5.31,5.31,0,0,0,6.5,1,5.31,5.31,0,0,0,8.1,4.9,5.31,5.31,0,0,0,12,6.5,5.46,5.46,0,0,0,6.5,12Z\"/>\n",
              "  </svg>\n",
              "    </button>\n",
              "    <script>\n",
              "      (() => {\n",
              "      const buttonEl =\n",
              "        document.querySelector('#id_8440802f-38e3-4b2e-a691-c9ed43677af4 button.colab-df-generate');\n",
              "      buttonEl.style.display =\n",
              "        google.colab.kernel.accessAllowed ? 'block' : 'none';\n",
              "\n",
              "      buttonEl.onclick = () => {\n",
              "        google.colab.notebook.generateWithVariable('genre_publisher_cont_table');\n",
              "      }\n",
              "      })();\n",
              "    </script>\n",
              "  </div>\n",
              "\n",
              "    </div>\n",
              "  </div>\n"
            ],
            "application/vnd.google.colaboratory.intrinsic+json": {
              "type": "dataframe",
              "variable_name": "genre_publisher_cont_table"
            }
          },
          "metadata": {},
          "execution_count": 35
        }
      ]
    },
    {
      "cell_type": "code",
      "source": [
        "#calculating p-value and chi-square statistic\n",
        "chi_stat,p_val,_,_ = chi2_contingency(genre_publisher_cont_table)\n",
        "if p_val > alpha:\n",
        "  print('Fail to reject null hypothesis. There is no significant association between genre and publisher.')\n",
        "else:\n",
        "  print('Reject the null hypothesis. There is a significant association between genre and publisher.')"
      ],
      "metadata": {
        "colab": {
          "base_uri": "https://localhost:8080/"
        },
        "id": "Atq1dh2a0CXl",
        "outputId": "ca8811eb-8d07-4407-def1-8c7fe6f99ec8"
      },
      "execution_count": null,
      "outputs": [
        {
          "output_type": "stream",
          "name": "stdout",
          "text": [
            "Reject the null hypothesis. There is a significant association between genre and publisher.\n"
          ]
        }
      ]
    },
    {
      "cell_type": "markdown",
      "source": [
        "Testing independence between genre and developer"
      ],
      "metadata": {
        "id": "tDbxN0HS1hoO"
      }
    },
    {
      "cell_type": "markdown",
      "source": [
        "- Null Hypothesis: There is no significant association between genre and developer.\n",
        "- Alternative Hypothesis: There is a significant association between genre and developer."
      ],
      "metadata": {
        "id": "GqMyIQal1xw2"
      }
    },
    {
      "cell_type": "code",
      "source": [
        "genre_developer_cont_table = pd.crosstab(df['genre'],df['developer'])\n",
        "chi_stat,p_val,_,_ = chi2_contingency(genre_developer_cont_table)\n",
        "if p_val > alpha:\n",
        "  print('Fail to reject the null hypothesis. There is no significant association between genre and developer. ')\n",
        "else:\n",
        "  print('Reject the null hypothesis. There is a significant association between genre and developer.')"
      ],
      "metadata": {
        "colab": {
          "base_uri": "https://localhost:8080/"
        },
        "id": "99IRTHX9192S",
        "outputId": "c6e2e098-ef31-461a-e3bf-c18676c0f573"
      },
      "execution_count": null,
      "outputs": [
        {
          "output_type": "stream",
          "name": "stdout",
          "text": [
            "Reject the null hypothesis. There is a significant association between genre and developer.\n"
          ]
        }
      ]
    },
    {
      "cell_type": "markdown",
      "source": [
        "Testing independence between genre and title"
      ],
      "metadata": {
        "id": "IVp-7MhS3Nyy"
      }
    },
    {
      "cell_type": "markdown",
      "source": [
        "- Null Hypothesis: There is no significant association between genre and title.\n",
        "- Alternative Hypothesis: There is a significant association between genre and title."
      ],
      "metadata": {
        "id": "YceHAFd23WdN"
      }
    },
    {
      "cell_type": "code",
      "source": [
        "genre_title_cont_table = pd.crosstab(df['genre'],df['title'])\n",
        "chi_stat,p_val,_,_ = chi2_contingency(genre_title_cont_table)\n",
        "if p_val > alpha:\n",
        "  print('Fail to reject the null hypothesis. There is no significant association between genre and title. ')\n",
        "else:\n",
        "  print('Reject the null hypothesis. There is a significant association between genre and title.')"
      ],
      "metadata": {
        "colab": {
          "base_uri": "https://localhost:8080/"
        },
        "id": "ZaeCc6Fx3dYE",
        "outputId": "a9c2a44f-678b-4be8-db9f-54860befb794"
      },
      "execution_count": null,
      "outputs": [
        {
          "output_type": "stream",
          "name": "stdout",
          "text": [
            "Reject the null hypothesis. There is a significant association between genre and title.\n"
          ]
        }
      ]
    },
    {
      "cell_type": "markdown",
      "source": [
        "Testing independence between genre and console"
      ],
      "metadata": {
        "id": "jncVfauo4W_k"
      }
    },
    {
      "cell_type": "markdown",
      "source": [
        "- Null Hypothesis: There is no significant association between genre and console.\n",
        "- Alternative Hypothesis: There is a significant association between genre and console."
      ],
      "metadata": {
        "id": "VnuXsxMn4dWr"
      }
    },
    {
      "cell_type": "code",
      "source": [
        "genre_console_cont_table = pd.crosstab(df['genre'],df['console'])\n",
        "chi_stat,p_val,_,_ = chi2_contingency(genre_console_cont_table)\n",
        "if p_val > alpha:\n",
        "  print('Fail to reject the null hypothesis. There is no significant association between genre and console. ')\n",
        "else:\n",
        "  print('Reject the null hypothesis. There is a significant association between genre and console.')"
      ],
      "metadata": {
        "colab": {
          "base_uri": "https://localhost:8080/"
        },
        "id": "mestu8Zp4kvH",
        "outputId": "6f7ec4cc-aa6e-49c8-eee2-69520e19634b"
      },
      "execution_count": null,
      "outputs": [
        {
          "output_type": "stream",
          "name": "stdout",
          "text": [
            "Reject the null hypothesis. There is a significant association between genre and console.\n"
          ]
        }
      ]
    },
    {
      "cell_type": "markdown",
      "source": [
        "Testing independence between console and title"
      ],
      "metadata": {
        "id": "41Ay5-DP5CNN"
      }
    },
    {
      "cell_type": "markdown",
      "source": [
        "- Null Hypothesis: There is no significant association between console and title.\n",
        "- Alternative Hypothesis: There is a significant association between console and title."
      ],
      "metadata": {
        "id": "_J3s-rVh5C2-"
      }
    },
    {
      "cell_type": "code",
      "source": [
        "console_title_cont_table = pd.crosstab(df['console'],df['title'])\n",
        "chi_stat,p_val,_,_ = chi2_contingency(console_title_cont_table)\n",
        "if p_val > alpha:\n",
        "  print('Fail to reject the null hypothesis. There is no significant association between console and title. ')\n",
        "else:\n",
        "  print('Reject the null hypothesis. There is a significant association between console and title.')"
      ],
      "metadata": {
        "colab": {
          "base_uri": "https://localhost:8080/"
        },
        "id": "l-vxvgIb47iK",
        "outputId": "a7010210-7270-4755-d076-05514ad79f20"
      },
      "execution_count": null,
      "outputs": [
        {
          "output_type": "stream",
          "name": "stdout",
          "text": [
            "Fail to reject the null hypothesis. There is no significant association between console and title. \n"
          ]
        }
      ]
    },
    {
      "cell_type": "markdown",
      "source": [
        "Testing independence between console and developer"
      ],
      "metadata": {
        "id": "CqNiTT-K5qzG"
      }
    },
    {
      "cell_type": "markdown",
      "source": [
        "- Null Hypothesis: There is no significant association between console and developer.\n",
        "- Alternative Hypothesis: There is a significant association between console and developer."
      ],
      "metadata": {
        "id": "hp3fI5WK51lI"
      }
    },
    {
      "cell_type": "code",
      "source": [
        "console_developer_cont_table = pd.crosstab(df['console'],df['developer'])\n",
        "chi_stat,p_val,_,_ = chi2_contingency(console_developer_cont_table)\n",
        "if p_val > alpha:\n",
        "  print('Fail to reject the null hypothesis. There is no significant association between console and developer. ')\n",
        "else:\n",
        "  print('Reject the null hypothesis. There is a significant association between console and developer.')"
      ],
      "metadata": {
        "colab": {
          "base_uri": "https://localhost:8080/"
        },
        "id": "qgnBC-S_6HXK",
        "outputId": "66c74148-8fd2-458b-965b-7d62d96b70f3"
      },
      "execution_count": null,
      "outputs": [
        {
          "output_type": "stream",
          "name": "stdout",
          "text": [
            "Reject the null hypothesis. There is a significant association between console and developer.\n"
          ]
        }
      ]
    },
    {
      "cell_type": "markdown",
      "source": [
        "Testing independence between console and publisher"
      ],
      "metadata": {
        "id": "tF4yz48y6em2"
      }
    },
    {
      "cell_type": "markdown",
      "source": [
        "- Null Hypothesis: There is no significant association between console and publisher.\n",
        "- Alternative Hypothesis: There is a significant association between console and publisher."
      ],
      "metadata": {
        "id": "MPRi-F496jEG"
      }
    },
    {
      "cell_type": "code",
      "source": [
        "console_publisher_cont_table = pd.crosstab(df['console'],df['publisher'])\n",
        "chi_stat,p_val,_,_ = chi2_contingency(console_publisher_cont_table)\n",
        "if p_val > alpha:\n",
        "  print('Fail to reject the null hypothesis. There is no significant association between console and publisher. ')\n",
        "else:\n",
        "  print('Reject the null hypothesis. There is a significant association between console and publisher.')"
      ],
      "metadata": {
        "colab": {
          "base_uri": "https://localhost:8080/"
        },
        "id": "cjX0EJaE6r3x",
        "outputId": "5d79f3d1-621b-4141-e1b5-03367f7f5726"
      },
      "execution_count": null,
      "outputs": [
        {
          "output_type": "stream",
          "name": "stdout",
          "text": [
            "Reject the null hypothesis. There is a significant association between console and publisher.\n"
          ]
        }
      ]
    },
    {
      "cell_type": "markdown",
      "source": [
        "Testing independence between publisher and developer"
      ],
      "metadata": {
        "id": "gGnsEgcL7WAy"
      }
    },
    {
      "cell_type": "markdown",
      "source": [
        "- Null Hypothesis: There is no significant association between publisher and developer.\n",
        "- Alternative Hypothesis: There is a significant association between publisher and developer."
      ],
      "metadata": {
        "id": "tL9qCC_a7aK5"
      }
    },
    {
      "cell_type": "code",
      "source": [
        "publisher_developer_cont_table = pd.crosstab(df['publisher'],df['developer'])\n",
        "chi_stat,p_val,_,_ = chi2_contingency(publisher_developer_cont_table)\n",
        "if p_val > alpha:\n",
        "  print('Fail to reject the null hypothesis. There is no significant association between publisher and developer. ')\n",
        "else:\n",
        "  print('Reject the null hypothesis. There is a significant association between publisher and developer.')"
      ],
      "metadata": {
        "colab": {
          "base_uri": "https://localhost:8080/"
        },
        "id": "dM18eGfl7fac",
        "outputId": "985506e5-e541-4073-dbfe-40e773bf2e2c"
      },
      "execution_count": null,
      "outputs": [
        {
          "output_type": "stream",
          "name": "stdout",
          "text": [
            "Reject the null hypothesis. There is a significant association between publisher and developer.\n"
          ]
        }
      ]
    },
    {
      "cell_type": "markdown",
      "source": [
        "Testing independence between publisher and title"
      ],
      "metadata": {
        "id": "Jyusd_H07-g5"
      }
    },
    {
      "cell_type": "markdown",
      "source": [
        "- Null Hypothesis: There is no significant association between publisher and title.\n",
        "- Alternative Hypothesis: There is a significant association between publisher and title."
      ],
      "metadata": {
        "id": "2c9UGTng8CUC"
      }
    },
    {
      "cell_type": "code",
      "source": [
        "publisher_title_cont_table = pd.crosstab(df['publisher'],df['title'])\n",
        "chi_stat,p_val,_,_ = chi2_contingency(publisher_title_cont_table)\n",
        "if p_val > alpha:\n",
        "  print('Fail to reject the null hypothesis. There is no significant association between publisher and title. ')\n",
        "else:\n",
        "  print('Reject the null hypothesis. There is a significant association between publisher and title.')"
      ],
      "metadata": {
        "colab": {
          "base_uri": "https://localhost:8080/"
        },
        "id": "Z7oT2iPn8J3j",
        "outputId": "8b34b10a-a35f-4feb-b894-5359c838cb08"
      },
      "execution_count": null,
      "outputs": [
        {
          "output_type": "stream",
          "name": "stdout",
          "text": [
            "Reject the null hypothesis. There is a significant association between publisher and title.\n"
          ]
        }
      ]
    },
    {
      "cell_type": "markdown",
      "source": [
        "Calculating confidence interval for critic score"
      ],
      "metadata": {
        "id": "0xkusMljMb4W"
      }
    },
    {
      "cell_type": "code",
      "source": [
        "#establishing confidence level probability\n",
        "confidence_level = 0.95"
      ],
      "metadata": {
        "id": "Gu4gnNZswq8_"
      },
      "execution_count": null,
      "outputs": []
    },
    {
      "cell_type": "code",
      "source": [
        "critic_score_mean = df['critic_score'].mean()#calculating parameter mean\n",
        "critic_score_std = df['critic_score'].std()#calculating parameter standard deviation\n",
        "\n",
        "#establishing degree of freedom (number of free variables)\n",
        "degree_of_freedom = len(df['critic_score']) - 1\n",
        "\n",
        "#calculating critical value which will be used to range of values\n",
        "critical_value = stats.t.ppf((1+confidence_level)/2,degree_of_freedom)\n",
        "\n",
        "#calculating margin of error\n",
        "margin_of_error = critical_value*(critic_score_std/np.sqrt(len(df['critic_score'])))\n",
        "\n",
        "#calculating confidence interval\n",
        "conf_interval = (critic_score_mean-margin_of_error,critic_score_mean+margin_of_error)\n",
        "print('Confidence interval for critic_score column:',conf_interval)"
      ],
      "metadata": {
        "colab": {
          "base_uri": "https://localhost:8080/"
        },
        "id": "OgqWLs9aPAx3",
        "outputId": "46a699a5-674c-40c5-ae90-81a64b9fada1"
      },
      "execution_count": null,
      "outputs": [
        {
          "output_type": "stream",
          "name": "stdout",
          "text": [
            "Confidence interval for critic_score column: (7.467131994789989, 7.474541961720883)\n"
          ]
        }
      ]
    },
    {
      "cell_type": "markdown",
      "source": [
        "This suggests that with a 95% confidence level, the true population mean of critic_score is likely to fall within this range. Also, due to the narrowness of the interval, it suggests that there is low variability within the sample data"
      ],
      "metadata": {
        "id": "WOeqz5uvrrmK"
      }
    },
    {
      "cell_type": "code",
      "source": [
        "total_sales_mean = df['total_sales'].mean()#calculating parameter mean\n",
        "total_sales_score_std = df['total_sales'].std()#calculating parameter standard deviation\n",
        "\n",
        "#establishing degree of freedom (number of free variables)\n",
        "degree_of_freedom = len(df['total_sales']) - 1\n",
        "\n",
        "#calculating critical value which will be used to range of values\n",
        "critical_value = stats.t.ppf((1+confidence_level)/2,degree_of_freedom)\n",
        "\n",
        "#calculating margin of error\n",
        "margin_of_error = critical_value*(total_sales_score_std/np.sqrt(len(df['total_sales'])))\n",
        "\n",
        "#calculating confidence interval\n",
        "conf_interval = (total_sales_mean-margin_of_error,total_sales_mean+margin_of_error)\n",
        "print('Confidence interval for total_sales column:',conf_interval)"
      ],
      "metadata": {
        "colab": {
          "base_uri": "https://localhost:8080/"
        },
        "id": "coSubOm8sQmc",
        "outputId": "d72ee0f1-041b-43f6-9ff4-26feb8ff74c0"
      },
      "execution_count": null,
      "outputs": [
        {
          "output_type": "stream",
          "name": "stdout",
          "text": [
            "Confidence interval for total_sales column: (0.18422587939653237, 0.1912174472718007)\n"
          ]
        }
      ]
    },
    {
      "cell_type": "markdown",
      "source": [
        "This suggests that with a 95% confidence level, the true population mean of total_sales is likely to fall within this range. Also, due to the narrowness of the interval, it suggests that there is low variability within the sample data"
      ],
      "metadata": {
        "id": "0WCdpuNVQYSj"
      }
    },
    {
      "cell_type": "code",
      "source": [
        "na_sales_mean = df['na_sales'].mean()#calculating parameter mean\n",
        "na_sales_score_std = df['na_sales'].std()#calculating parameter standard deviation\n",
        "\n",
        "#establishing degree of freedom (number of free variables)\n",
        "degree_of_freedom = len(df['na_sales']) - 1\n",
        "\n",
        "#calculating critical value which will be used to range of values\n",
        "critical_value = stats.t.ppf((1+confidence_level)/2,degree_of_freedom)\n",
        "\n",
        "#calculating margin of error\n",
        "margin_of_error = critical_value*(na_sales_score_std/np.sqrt(len(df['na_sales'])))\n",
        "\n",
        "#calculating confidence interval\n",
        "conf_interval = (na_sales_mean-margin_of_error,na_sales_mean+margin_of_error)\n",
        "print('Confidence interval for na_sales column:',conf_interval)"
      ],
      "metadata": {
        "colab": {
          "base_uri": "https://localhost:8080/"
        },
        "id": "nclPDbo8tM8A",
        "outputId": "3bbf9cd5-6e44-4b63-ab66-eebaa1bee2c3"
      },
      "execution_count": null,
      "outputs": [
        {
          "output_type": "stream",
          "name": "stdout",
          "text": [
            "Confidence interval for na_sales column: (0.14681180052406678, 0.15033266335996232)\n"
          ]
        }
      ]
    },
    {
      "cell_type": "markdown",
      "source": [
        "This suggests that with a 95% confidence level, the true population mean of na_sales is likely to fall within this range. Also, due to the narrowness of the interval, it suggests that there is low variability within the sample data"
      ],
      "metadata": {
        "id": "NUZjXd6lQnhJ"
      }
    },
    {
      "cell_type": "code",
      "source": [
        "jp_sales_mean = df['jp_sales'].mean()#calculating parameter mean\n",
        "jp_sales_score_std = df['jp_sales'].std()#calculating parameter standard deviation\n",
        "\n",
        "#establishing degree of freedom (number of free variables)\n",
        "degree_of_freedom = len(df['jp_sales']) - 1\n",
        "\n",
        "#calculating critical value which will be used to range of values\n",
        "critical_value = stats.t.ppf((1+confidence_level)/2,degree_of_freedom)\n",
        "\n",
        "#calculating margin of error\n",
        "margin_of_error = critical_value*(jp_sales_score_std/np.sqrt(len(df['jp_sales'])))\n",
        "\n",
        "#calculating confidence interval\n",
        "conf_interval = (jp_sales_mean-margin_of_error,jp_sales_mean+margin_of_error)\n",
        "print('Confidence interval for jp_sales column:',conf_interval)"
      ],
      "metadata": {
        "colab": {
          "base_uri": "https://localhost:8080/"
        },
        "id": "DAAT4XVptlFJ",
        "outputId": "6a642c09-0910-4f16-afaf-0caa48d488d1"
      },
      "execution_count": null,
      "outputs": [
        {
          "output_type": "stream",
          "name": "stdout",
          "text": [
            "Confidence interval for jp_sales column: (0.046094742300708515, 0.04699261086100106)\n"
          ]
        }
      ]
    },
    {
      "cell_type": "markdown",
      "source": [
        "This suggests that with a 95% confidence level, the true population mean of jp_sales is likely to fall within this range. Also, due to the narrowness of the interval, it suggests that there is low variability within the sample data"
      ],
      "metadata": {
        "id": "zXizjBgLQsjE"
      }
    },
    {
      "cell_type": "code",
      "source": [
        "pal_sales_mean = df['pal_sales'].mean()#calculating parameter mean\n",
        "pal_sales_score_std = df['pal_sales'].std()#calculating parameter standard deviation\n",
        "\n",
        "#establishing degree of freedom (number of free variables)\n",
        "degree_of_freedom = len(df['pal_sales']) - 1\n",
        "\n",
        "#calculating critical value which will be used to range of values\n",
        "critical_value = stats.t.ppf((1+confidence_level)/2,degree_of_freedom)\n",
        "\n",
        "#calculating margin of error\n",
        "margin_of_error = critical_value*(pal_sales_score_std/np.sqrt(len(df['pal_sales'])))\n",
        "\n",
        "#calculating confidence interval\n",
        "conf_interval = (pal_sales_mean-margin_of_error,pal_sales_mean+margin_of_error)\n",
        "print('Confidence interval for pal_sales column:',conf_interval)"
      ],
      "metadata": {
        "colab": {
          "base_uri": "https://localhost:8080/"
        },
        "id": "RL2x7KvUuBY9",
        "outputId": "5b77fdfc-091a-4b94-ba22-dac5cd3e822a"
      },
      "execution_count": null,
      "outputs": [
        {
          "output_type": "stream",
          "name": "stdout",
          "text": [
            "Confidence interval for pal_sales column: (0.06052694569890635, 0.06333302680796692)\n"
          ]
        }
      ]
    },
    {
      "cell_type": "markdown",
      "source": [
        "This suggests that with a 95% confidence level, the true population mean of pal_sales is likely to fall within this range. Also, due to the narrowness of the interval, it suggests that there is low variability within the sample data"
      ],
      "metadata": {
        "id": "eHmXq1mPREQa"
      }
    },
    {
      "cell_type": "code",
      "source": [
        "other_sales_mean = df['other_sales'].mean()#calculating parameter mean\n",
        "other_sales_score_std = df['other_sales'].std()#calculating parameter standard deviation\n",
        "\n",
        "#establishing degree of freedom (number of free variables)\n",
        "degree_of_freedom = len(df['other_sales']) - 1\n",
        "\n",
        "#calculating critical value which will be used to range of values\n",
        "critical_value = stats.t.ppf((1+confidence_level)/2,degree_of_freedom)\n",
        "\n",
        "#calculating margin of error\n",
        "margin_of_error = critical_value*(other_sales_score_std/np.sqrt(len(df['other_sales'])))\n",
        "\n",
        "#calculating confidence interval\n",
        "conf_interval = (other_sales_mean-margin_of_error,other_sales_mean+margin_of_error)\n",
        "print('Confidence interval for other_sales column:',conf_interval)"
      ],
      "metadata": {
        "colab": {
          "base_uri": "https://localhost:8080/"
        },
        "id": "PzSLo6d-ubvy",
        "outputId": "84899e20-dddb-40f9-c0c8-d65c4213cdcb"
      },
      "execution_count": null,
      "outputs": [
        {
          "output_type": "stream",
          "name": "stdout",
          "text": [
            "Confidence interval for other_sales column: (0.017318905745124052, 0.018297190230881947)\n"
          ]
        }
      ]
    },
    {
      "cell_type": "markdown",
      "source": [
        "This suggests that with a 95% confidence level, the true population mean of other_sales is likely to fall within this range. Also, due to the narrowness of the interval, it suggests that there is low variability within the sample data"
      ],
      "metadata": {
        "id": "J8NKGkJqRKVU"
      }
    },
    {
      "cell_type": "markdown",
      "source": [
        "## Key Findings"
      ],
      "metadata": {
        "id": "AFEC3AnS0hdX"
      }
    },
    {
      "cell_type": "markdown",
      "source": [
        "- critic_score is left skewed while total_sales, other_sales, na_sales, pal_sales and jp_sales are all right skewed.\n",
        "- total_sales, na_sales, jp_sales, pal_sales and other_sales possess a leptokurtic distribution while critic_score posses a mesokurtic distribution\n",
        "- total_sales, na_sales, jp_sales, pal_sales and other_sales have a smaller dispersion of values from the mean, whereas critic_score has a relatively larger spread from its mean.\n",
        "- total_sales has a strong correlation with other_sales, pal_sales, jp_sales and na_sales parameters.\n",
        "- PC was the most frequent console.\n",
        "- Miscellaneous was the most frequent game genre.\n",
        "- Unknown publishers were the most frequent.\n",
        "- Unknown developers were the most frequent.\n",
        "- Plants vs Zombies was the most frequent game title.\n",
        "- There is a significant difference between mean critic scores and mean high and low total sales.\n",
        "- There is a significant difference between mean critic scores and mean North American sales.\n",
        "- There is a significant difference between mean critic scores and mean Japanese sales.\n",
        "- There is a significant difference between mean critic scores and mean Europe/Africa sales.\n",
        "- There is a significant difference between mean critic scores and mean Other sales.\n",
        "- There is a significant difference between mean total sales and mean Other sales.\n",
        "- There is a significant difference between mean total sales and mean North America sales.\n",
        "- There is a significant difference between mean total sales and mean Japan sales.\n",
        "- There is a significant difference between mean total sales and mean Europe/Africa sales.\n",
        "- There is a significant association between genre and publisher.\n",
        "- There is a significant association between genre and developer.\n",
        "- There is a significant association between genre and title.\n",
        "- There is a significant association between genre and console.\n",
        "- There is no significant association between console and title.\n",
        "- There is a significant association between console and developer.\n",
        "- There is a significant association between console and publisher.\n",
        "- There is a significant association between publisher and developer.\n",
        "- There is a significant association between publisher and title.\n"
      ],
      "metadata": {
        "id": "Yrsyk86G0lFm"
      }
    },
    {
      "cell_type": "markdown",
      "source": [
        "## Insights"
      ],
      "metadata": {
        "id": "xccu6Ez00nMX"
      }
    },
    {
      "cell_type": "markdown",
      "source": [
        "- Calculating/generating numerical insights for parameters may not be sufficient in determining associations and correlations between data points.\n",
        "- The data visualization process is crucial for making a more comprehensive determination; whether further test statistics need to be calculated; to conclusively say whether or not parameters are correlated or retreiving meaningful insights on parameter distribution.\n",
        "- If categorical parameters are too large to represent on a plot, a certain amount can be chosen from a frequency table to represent the distribution of the top n parameters of each column. Although this approach might not consist of all the existing categories, relevant analysis could still be done with the data presented in a readable and visually appealing manner."
      ],
      "metadata": {
        "id": "fFrEkN_z0o7d"
      }
    }
  ]
}